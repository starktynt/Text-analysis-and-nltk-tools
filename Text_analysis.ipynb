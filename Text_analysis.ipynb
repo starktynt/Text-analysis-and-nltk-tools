{
  "nbformat": 4,
  "nbformat_minor": 0,
  "metadata": {
    "colab": {
      "name": "Text_analysis.ipynb",
      "provenance": [],
      "collapsed_sections": []
    },
    "kernelspec": {
      "display_name": "Python 3",
      "name": "python3"
    },
    "language_info": {
      "name": "python"
    }
  },
  "cells": [
    {
      "cell_type": "code",
      "metadata": {
        "colab": {
          "base_uri": "https://localhost:8080/"
        },
        "id": "_yIL--XCtugR",
        "outputId": "e18b2edb-d2eb-4885-fe47-135ea9b6d9ef"
      },
      "source": [
        "import pandas as pd \n",
        "import nltk \n",
        "nltk.download('punkt')\n",
        "nltk.download(\"stopwords\")\n",
        "nltk.download('averaged_perceptron_tagger')\n",
        "nltk.download('wordnet')\n",
        "from nltk.tokenize import word_tokenize\n",
        "from nltk.tag import pos_tag\n",
        "import re\n",
        "from string import punctuation\n",
        "from nltk.corpus import stopwords\n",
        "from nltk.stem import WordNetLemmatizer\n",
        "\n",
        "\n",
        "import tweepy\n",
        "from textblob import TextBlob\n",
        "import pandas as pd\n",
        "import numpy as np\n",
        "# Import re is regular expressions\n",
        "import re\n",
        "import matplotlib.pyplot as plt\n",
        "% matplotlib inline\n",
        "plt.style.use('fivethirtyeight')\n",
        "\n",
        "from os import path\n",
        "from PIL import Image\n",
        "from wordcloud import WordCloud, STOPWORDS, ImageColorGenerator\n",
        "\n",
        "from nltk.util import ngrams\n",
        "nltk.download('punkt')\n",
        "\n",
        "\n",
        "\n",
        "import warnings\n",
        "warnings.filterwarnings(\"ignore\")\n",
        "\n",
        "\n",
        "import nltk, re, string, collections\n",
        "from nltk.util import ngrams # function for making ngrams\n",
        "from nltk import FreqDist\n",
        "\n"
      ],
      "execution_count": null,
      "outputs": [
        {
          "output_type": "stream",
          "text": [
            "[nltk_data] Downloading package punkt to /root/nltk_data...\n",
            "[nltk_data]   Package punkt is already up-to-date!\n",
            "[nltk_data] Downloading package stopwords to /root/nltk_data...\n",
            "[nltk_data]   Package stopwords is already up-to-date!\n",
            "[nltk_data] Downloading package averaged_perceptron_tagger to\n",
            "[nltk_data]     /root/nltk_data...\n",
            "[nltk_data]   Package averaged_perceptron_tagger is already up-to-\n",
            "[nltk_data]       date!\n",
            "[nltk_data] Downloading package wordnet to /root/nltk_data...\n",
            "[nltk_data]   Package wordnet is already up-to-date!\n",
            "[nltk_data] Downloading package punkt to /root/nltk_data...\n",
            "[nltk_data]   Package punkt is already up-to-date!\n"
          ],
          "name": "stdout"
        }
      ]
    },
    {
      "cell_type": "code",
      "metadata": {
        "colab": {
          "resources": {
            "http://localhost:8080/nbextensions/google.colab/files.js": {
              "data": "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",
              "ok": true,
              "headers": [
                [
                  "content-type",
                  "application/javascript"
                ]
              ],
              "status": 200,
              "status_text": "OK"
            }
          },
          "base_uri": "https://localhost:8080/",
          "height": 81
        },
        "id": "a2-nQiXBt37B",
        "outputId": "85858639-6099-450d-b1a5-bcf918730502"
      },
      "source": [
        "\n",
        "from google.colab import files\n",
        "uploaded = files.upload()\n"
      ],
      "execution_count": null,
      "outputs": [
        {
          "output_type": "display_data",
          "data": {
            "text/html": [
              "\n",
              "     <input type=\"file\" id=\"files-28b60d03-0f28-4ada-84e4-8de61f7644d1\" name=\"files[]\" multiple disabled\n",
              "        style=\"border:none\" />\n",
              "     <output id=\"result-28b60d03-0f28-4ada-84e4-8de61f7644d1\">\n",
              "      Upload widget is only available when the cell has been executed in the\n",
              "      current browser session. Please rerun this cell to enable.\n",
              "      </output>\n",
              "      <script src=\"/nbextensions/google.colab/files.js\"></script> "
            ],
            "text/plain": [
              "<IPython.core.display.HTML object>"
            ]
          },
          "metadata": {
            "tags": []
          }
        },
        {
          "output_type": "stream",
          "text": [
            "Saving digitalnomad_comments_1420066800.csv to digitalnomad_comments_1420066800.csv\n"
          ],
          "name": "stdout"
        }
      ]
    },
    {
      "cell_type": "code",
      "metadata": {
        "id": "mXk5xr7kt39X"
      },
      "source": [
        "df = pd.read_csv(\"digitalnomad_comments_1420066800.csv\")\n"
      ],
      "execution_count": null,
      "outputs": []
    },
    {
      "cell_type": "code",
      "metadata": {
        "colab": {
          "base_uri": "https://localhost:8080/"
        },
        "id": "d3pav8Zst3_2",
        "outputId": "6b127c83-07fe-46f6-f177-c3948c6698ea"
      },
      "source": [
        "df.shape"
      ],
      "execution_count": null,
      "outputs": [
        {
          "output_type": "execute_result",
          "data": {
            "text/plain": [
              "(25147, 24)"
            ]
          },
          "metadata": {
            "tags": []
          },
          "execution_count": 3
        }
      ]
    },
    {
      "cell_type": "code",
      "metadata": {
        "id": "V8On3iFwv57T"
      },
      "source": [
        "def preprocess(sent):\n",
        "    sent = nltk.word_tokenize(sent)\n",
        "    sent = nltk.pos_tag(sent)\n",
        "    return sent"
      ],
      "execution_count": null,
      "outputs": []
    },
    {
      "cell_type": "code",
      "metadata": {
        "id": "Z0r-ceNxz0SG"
      },
      "source": [
        ""
      ],
      "execution_count": null,
      "outputs": []
    },
    {
      "cell_type": "code",
      "metadata": {
        "id": "hwqKFttKz0Uq"
      },
      "source": [
        "def clean(text_):\n",
        "\n",
        "  text = text_\n",
        "  #text = ' '.join([w.lower() for w in word_tokenize(text)])\n",
        "  #text = [word for word in text if word not in stopwords]\n",
        "  #text = re.sub('<[^<]+?>','', text)\n",
        "  text = ''.join(c for c in text if not c.isdigit())\n",
        "  text = ''.join(c for c in text if c not in punctuation)\n",
        "\n",
        "  wordnet_lemmatizer = WordNetLemmatizer()\n",
        "  \n",
        "  word_tokens = nltk.word_tokenize(text)\n",
        "  lemmatized_word = [wordnet_lemmatizer.lemmatize(word) for word in word_tokens]\n",
        "\n",
        "  #text = nltk.word_tokenize(text)\n",
        "  \n",
        "  return lemmatized_word"
      ],
      "execution_count": null,
      "outputs": []
    },
    {
      "cell_type": "code",
      "metadata": {
        "colab": {
          "base_uri": "https://localhost:8080/",
          "height": 348
        },
        "id": "WLzMYHvJRjPW",
        "outputId": "994dc05c-c332-4579-adad-232ab909a318"
      },
      "source": [
        "df.head()"
      ],
      "execution_count": null,
      "outputs": [
        {
          "output_type": "execute_result",
          "data": {
            "text/html": [
              "<div>\n",
              "<style scoped>\n",
              "    .dataframe tbody tr th:only-of-type {\n",
              "        vertical-align: middle;\n",
              "    }\n",
              "\n",
              "    .dataframe tbody tr th {\n",
              "        vertical-align: top;\n",
              "    }\n",
              "\n",
              "    .dataframe thead th {\n",
              "        text-align: right;\n",
              "    }\n",
              "</style>\n",
              "<table border=\"1\" class=\"dataframe\">\n",
              "  <thead>\n",
              "    <tr style=\"text-align: right;\">\n",
              "      <th></th>\n",
              "      <th>author</th>\n",
              "      <th>author_created_utc</th>\n",
              "      <th>author_flair_css_class</th>\n",
              "      <th>author_flair_text</th>\n",
              "      <th>author_fullname</th>\n",
              "      <th>body</th>\n",
              "      <th>controversiality</th>\n",
              "      <th>created_utc</th>\n",
              "      <th>distinguished</th>\n",
              "      <th>gilded</th>\n",
              "      <th>id</th>\n",
              "      <th>link_id</th>\n",
              "      <th>nest_level</th>\n",
              "      <th>parent_id</th>\n",
              "      <th>reply_delay</th>\n",
              "      <th>retrieved_on</th>\n",
              "      <th>score</th>\n",
              "      <th>score_hidden</th>\n",
              "      <th>subreddit</th>\n",
              "      <th>subreddit_id</th>\n",
              "      <th>user_removed</th>\n",
              "      <th>edited</th>\n",
              "      <th>mod_removed</th>\n",
              "      <th>stickied</th>\n",
              "    </tr>\n",
              "  </thead>\n",
              "  <tbody>\n",
              "    <tr>\n",
              "      <th>0</th>\n",
              "      <td>nateliason</td>\n",
              "      <td>1.384809e+09</td>\n",
              "      <td>NaN</td>\n",
              "      <td>NaN</td>\n",
              "      <td>t2_dz1sa</td>\n",
              "      <td>Great! Head over to millennialnomads.com, plug...</td>\n",
              "      <td>0</td>\n",
              "      <td>1426370466</td>\n",
              "      <td>NaN</td>\n",
              "      <td>0</td>\n",
              "      <td>cpf0nc7</td>\n",
              "      <td>t3_2yxxuq</td>\n",
              "      <td>2.0</td>\n",
              "      <td>t1_cpexcey</td>\n",
              "      <td>6720.0</td>\n",
              "      <td>1.427764e+09</td>\n",
              "      <td>1</td>\n",
              "      <td>False</td>\n",
              "      <td>digitalnomad</td>\n",
              "      <td>t5_2r9w0</td>\n",
              "      <td>NaN</td>\n",
              "      <td>NaN</td>\n",
              "      <td>NaN</td>\n",
              "      <td>NaN</td>\n",
              "    </tr>\n",
              "    <tr>\n",
              "      <th>1</th>\n",
              "      <td>Gekko463</td>\n",
              "      <td>1.387088e+09</td>\n",
              "      <td>NaN</td>\n",
              "      <td>NaN</td>\n",
              "      <td>t2_ed0aw</td>\n",
              "      <td>They won't let you.  Only at renewal.</td>\n",
              "      <td>0</td>\n",
              "      <td>1426369733</td>\n",
              "      <td>NaN</td>\n",
              "      <td>0</td>\n",
              "      <td>cpf0ash</td>\n",
              "      <td>t3_2ymou9</td>\n",
              "      <td>4.0</td>\n",
              "      <td>t1_cpewdsm</td>\n",
              "      <td>7965.0</td>\n",
              "      <td>1.427764e+09</td>\n",
              "      <td>1</td>\n",
              "      <td>False</td>\n",
              "      <td>digitalnomad</td>\n",
              "      <td>t5_2r9w0</td>\n",
              "      <td>NaN</td>\n",
              "      <td>NaN</td>\n",
              "      <td>NaN</td>\n",
              "      <td>NaN</td>\n",
              "    </tr>\n",
              "    <tr>\n",
              "      <th>2</th>\n",
              "      <td>[deleted]</td>\n",
              "      <td>NaN</td>\n",
              "      <td>NaN</td>\n",
              "      <td>NaN</td>\n",
              "      <td>NaN</td>\n",
              "      <td>[deleted]</td>\n",
              "      <td>0</td>\n",
              "      <td>1426369250</td>\n",
              "      <td>NaN</td>\n",
              "      <td>0</td>\n",
              "      <td>cpf02kj</td>\n",
              "      <td>t3_2z0dzh</td>\n",
              "      <td>1.0</td>\n",
              "      <td>t3_2z0dzh</td>\n",
              "      <td>36742.0</td>\n",
              "      <td>1.427763e+09</td>\n",
              "      <td>1</td>\n",
              "      <td>False</td>\n",
              "      <td>digitalnomad</td>\n",
              "      <td>t5_2r9w0</td>\n",
              "      <td>True</td>\n",
              "      <td>NaN</td>\n",
              "      <td>NaN</td>\n",
              "      <td>NaN</td>\n",
              "    </tr>\n",
              "    <tr>\n",
              "      <th>3</th>\n",
              "      <td>Topiary_goat</td>\n",
              "      <td>1.425463e+09</td>\n",
              "      <td>NaN</td>\n",
              "      <td>NaN</td>\n",
              "      <td>t2_lvdut</td>\n",
              "      <td>I've always considered expats to be those who ...</td>\n",
              "      <td>0</td>\n",
              "      <td>1426368233</td>\n",
              "      <td>NaN</td>\n",
              "      <td>0</td>\n",
              "      <td>cpezkna</td>\n",
              "      <td>t3_2z1mil</td>\n",
              "      <td>1.0</td>\n",
              "      <td>t3_2z1mil</td>\n",
              "      <td>8598.0</td>\n",
              "      <td>1.427763e+09</td>\n",
              "      <td>6</td>\n",
              "      <td>False</td>\n",
              "      <td>digitalnomad</td>\n",
              "      <td>t5_2r9w0</td>\n",
              "      <td>NaN</td>\n",
              "      <td>NaN</td>\n",
              "      <td>NaN</td>\n",
              "      <td>NaN</td>\n",
              "    </tr>\n",
              "    <tr>\n",
              "      <th>4</th>\n",
              "      <td>scottkeyes</td>\n",
              "      <td>1.375214e+09</td>\n",
              "      <td>NaN</td>\n",
              "      <td>NaN</td>\n",
              "      <td>t2_cki8c</td>\n",
              "      <td>just standard index &amp;amp; lifecycle funds. dil...</td>\n",
              "      <td>0</td>\n",
              "      <td>1426364785</td>\n",
              "      <td>NaN</td>\n",
              "      <td>0</td>\n",
              "      <td>cpexumy</td>\n",
              "      <td>t3_2z02d0</td>\n",
              "      <td>3.0</td>\n",
              "      <td>t1_cpet9nq</td>\n",
              "      <td>9235.0</td>\n",
              "      <td>1.427762e+09</td>\n",
              "      <td>5</td>\n",
              "      <td>False</td>\n",
              "      <td>digitalnomad</td>\n",
              "      <td>t5_2r9w0</td>\n",
              "      <td>NaN</td>\n",
              "      <td>NaN</td>\n",
              "      <td>NaN</td>\n",
              "      <td>NaN</td>\n",
              "    </tr>\n",
              "  </tbody>\n",
              "</table>\n",
              "</div>"
            ],
            "text/plain": [
              "         author  author_created_utc  ... mod_removed stickied\n",
              "0    nateliason        1.384809e+09  ...         NaN      NaN\n",
              "1      Gekko463        1.387088e+09  ...         NaN      NaN\n",
              "2     [deleted]                 NaN  ...         NaN      NaN\n",
              "3  Topiary_goat        1.425463e+09  ...         NaN      NaN\n",
              "4    scottkeyes        1.375214e+09  ...         NaN      NaN\n",
              "\n",
              "[5 rows x 24 columns]"
            ]
          },
          "metadata": {
            "tags": []
          },
          "execution_count": 6
        }
      ]
    },
    {
      "cell_type": "code",
      "metadata": {
        "id": "rGqEvU6yRjSB"
      },
      "source": [
        "#df.drop(df.iloc[:, 1:5], inplace = True, axis = 1)"
      ],
      "execution_count": null,
      "outputs": []
    },
    {
      "cell_type": "code",
      "metadata": {
        "colab": {
          "base_uri": "https://localhost:8080/",
          "height": 348
        },
        "id": "nZw8JVFrZ1bK",
        "outputId": "51511e0b-e1ee-4828-b1db-667a887a8a3b"
      },
      "source": [
        "df.head()"
      ],
      "execution_count": null,
      "outputs": [
        {
          "output_type": "execute_result",
          "data": {
            "text/html": [
              "<div>\n",
              "<style scoped>\n",
              "    .dataframe tbody tr th:only-of-type {\n",
              "        vertical-align: middle;\n",
              "    }\n",
              "\n",
              "    .dataframe tbody tr th {\n",
              "        vertical-align: top;\n",
              "    }\n",
              "\n",
              "    .dataframe thead th {\n",
              "        text-align: right;\n",
              "    }\n",
              "</style>\n",
              "<table border=\"1\" class=\"dataframe\">\n",
              "  <thead>\n",
              "    <tr style=\"text-align: right;\">\n",
              "      <th></th>\n",
              "      <th>author</th>\n",
              "      <th>author_created_utc</th>\n",
              "      <th>author_flair_css_class</th>\n",
              "      <th>author_flair_text</th>\n",
              "      <th>author_fullname</th>\n",
              "      <th>body</th>\n",
              "      <th>controversiality</th>\n",
              "      <th>created_utc</th>\n",
              "      <th>distinguished</th>\n",
              "      <th>gilded</th>\n",
              "      <th>id</th>\n",
              "      <th>link_id</th>\n",
              "      <th>nest_level</th>\n",
              "      <th>parent_id</th>\n",
              "      <th>reply_delay</th>\n",
              "      <th>retrieved_on</th>\n",
              "      <th>score</th>\n",
              "      <th>score_hidden</th>\n",
              "      <th>subreddit</th>\n",
              "      <th>subreddit_id</th>\n",
              "      <th>user_removed</th>\n",
              "      <th>edited</th>\n",
              "      <th>mod_removed</th>\n",
              "      <th>stickied</th>\n",
              "    </tr>\n",
              "  </thead>\n",
              "  <tbody>\n",
              "    <tr>\n",
              "      <th>0</th>\n",
              "      <td>nateliason</td>\n",
              "      <td>1.384809e+09</td>\n",
              "      <td>NaN</td>\n",
              "      <td>NaN</td>\n",
              "      <td>t2_dz1sa</td>\n",
              "      <td>Great! Head over to millennialnomads.com, plug...</td>\n",
              "      <td>0</td>\n",
              "      <td>1426370466</td>\n",
              "      <td>NaN</td>\n",
              "      <td>0</td>\n",
              "      <td>cpf0nc7</td>\n",
              "      <td>t3_2yxxuq</td>\n",
              "      <td>2.0</td>\n",
              "      <td>t1_cpexcey</td>\n",
              "      <td>6720.0</td>\n",
              "      <td>1.427764e+09</td>\n",
              "      <td>1</td>\n",
              "      <td>False</td>\n",
              "      <td>digitalnomad</td>\n",
              "      <td>t5_2r9w0</td>\n",
              "      <td>NaN</td>\n",
              "      <td>NaN</td>\n",
              "      <td>NaN</td>\n",
              "      <td>NaN</td>\n",
              "    </tr>\n",
              "    <tr>\n",
              "      <th>1</th>\n",
              "      <td>Gekko463</td>\n",
              "      <td>1.387088e+09</td>\n",
              "      <td>NaN</td>\n",
              "      <td>NaN</td>\n",
              "      <td>t2_ed0aw</td>\n",
              "      <td>They won't let you.  Only at renewal.</td>\n",
              "      <td>0</td>\n",
              "      <td>1426369733</td>\n",
              "      <td>NaN</td>\n",
              "      <td>0</td>\n",
              "      <td>cpf0ash</td>\n",
              "      <td>t3_2ymou9</td>\n",
              "      <td>4.0</td>\n",
              "      <td>t1_cpewdsm</td>\n",
              "      <td>7965.0</td>\n",
              "      <td>1.427764e+09</td>\n",
              "      <td>1</td>\n",
              "      <td>False</td>\n",
              "      <td>digitalnomad</td>\n",
              "      <td>t5_2r9w0</td>\n",
              "      <td>NaN</td>\n",
              "      <td>NaN</td>\n",
              "      <td>NaN</td>\n",
              "      <td>NaN</td>\n",
              "    </tr>\n",
              "    <tr>\n",
              "      <th>2</th>\n",
              "      <td>[deleted]</td>\n",
              "      <td>NaN</td>\n",
              "      <td>NaN</td>\n",
              "      <td>NaN</td>\n",
              "      <td>NaN</td>\n",
              "      <td>[deleted]</td>\n",
              "      <td>0</td>\n",
              "      <td>1426369250</td>\n",
              "      <td>NaN</td>\n",
              "      <td>0</td>\n",
              "      <td>cpf02kj</td>\n",
              "      <td>t3_2z0dzh</td>\n",
              "      <td>1.0</td>\n",
              "      <td>t3_2z0dzh</td>\n",
              "      <td>36742.0</td>\n",
              "      <td>1.427763e+09</td>\n",
              "      <td>1</td>\n",
              "      <td>False</td>\n",
              "      <td>digitalnomad</td>\n",
              "      <td>t5_2r9w0</td>\n",
              "      <td>True</td>\n",
              "      <td>NaN</td>\n",
              "      <td>NaN</td>\n",
              "      <td>NaN</td>\n",
              "    </tr>\n",
              "    <tr>\n",
              "      <th>3</th>\n",
              "      <td>Topiary_goat</td>\n",
              "      <td>1.425463e+09</td>\n",
              "      <td>NaN</td>\n",
              "      <td>NaN</td>\n",
              "      <td>t2_lvdut</td>\n",
              "      <td>I've always considered expats to be those who ...</td>\n",
              "      <td>0</td>\n",
              "      <td>1426368233</td>\n",
              "      <td>NaN</td>\n",
              "      <td>0</td>\n",
              "      <td>cpezkna</td>\n",
              "      <td>t3_2z1mil</td>\n",
              "      <td>1.0</td>\n",
              "      <td>t3_2z1mil</td>\n",
              "      <td>8598.0</td>\n",
              "      <td>1.427763e+09</td>\n",
              "      <td>6</td>\n",
              "      <td>False</td>\n",
              "      <td>digitalnomad</td>\n",
              "      <td>t5_2r9w0</td>\n",
              "      <td>NaN</td>\n",
              "      <td>NaN</td>\n",
              "      <td>NaN</td>\n",
              "      <td>NaN</td>\n",
              "    </tr>\n",
              "    <tr>\n",
              "      <th>4</th>\n",
              "      <td>scottkeyes</td>\n",
              "      <td>1.375214e+09</td>\n",
              "      <td>NaN</td>\n",
              "      <td>NaN</td>\n",
              "      <td>t2_cki8c</td>\n",
              "      <td>just standard index &amp;amp; lifecycle funds. dil...</td>\n",
              "      <td>0</td>\n",
              "      <td>1426364785</td>\n",
              "      <td>NaN</td>\n",
              "      <td>0</td>\n",
              "      <td>cpexumy</td>\n",
              "      <td>t3_2z02d0</td>\n",
              "      <td>3.0</td>\n",
              "      <td>t1_cpet9nq</td>\n",
              "      <td>9235.0</td>\n",
              "      <td>1.427762e+09</td>\n",
              "      <td>5</td>\n",
              "      <td>False</td>\n",
              "      <td>digitalnomad</td>\n",
              "      <td>t5_2r9w0</td>\n",
              "      <td>NaN</td>\n",
              "      <td>NaN</td>\n",
              "      <td>NaN</td>\n",
              "      <td>NaN</td>\n",
              "    </tr>\n",
              "  </tbody>\n",
              "</table>\n",
              "</div>"
            ],
            "text/plain": [
              "         author  author_created_utc  ... mod_removed stickied\n",
              "0    nateliason        1.384809e+09  ...         NaN      NaN\n",
              "1      Gekko463        1.387088e+09  ...         NaN      NaN\n",
              "2     [deleted]                 NaN  ...         NaN      NaN\n",
              "3  Topiary_goat        1.425463e+09  ...         NaN      NaN\n",
              "4    scottkeyes        1.375214e+09  ...         NaN      NaN\n",
              "\n",
              "[5 rows x 24 columns]"
            ]
          },
          "metadata": {
            "tags": []
          },
          "execution_count": 8
        }
      ]
    },
    {
      "cell_type": "code",
      "metadata": {
        "id": "uf4rL1PJRjUp"
      },
      "source": [
        "#df.drop(df.iloc[:, 4:6], inplace = True, axis = 1)\n",
        "#df.drop(df.iloc[:, 6:8], inplace = True, axis = 1)"
      ],
      "execution_count": null,
      "outputs": []
    },
    {
      "cell_type": "code",
      "metadata": {
        "colab": {
          "base_uri": "https://localhost:8080/"
        },
        "id": "jIszPUWdRjXM",
        "outputId": "e29a8956-2597-459f-b717-9ba88ac0d000"
      },
      "source": [
        "df.columns"
      ],
      "execution_count": null,
      "outputs": [
        {
          "output_type": "execute_result",
          "data": {
            "text/plain": [
              "Index(['author', 'author_created_utc', 'author_flair_css_class',\n",
              "       'author_flair_text', 'author_fullname', 'body', 'controversiality',\n",
              "       'created_utc', 'distinguished', 'gilded', 'id', 'link_id', 'nest_level',\n",
              "       'parent_id', 'reply_delay', 'retrieved_on', 'score', 'score_hidden',\n",
              "       'subreddit', 'subreddit_id', 'user_removed', 'edited', 'mod_removed',\n",
              "       'stickied'],\n",
              "      dtype='object')"
            ]
          },
          "metadata": {
            "tags": []
          },
          "execution_count": 10
        }
      ]
    },
    {
      "cell_type": "code",
      "metadata": {
        "id": "yo1MKtS-RjZ-"
      },
      "source": [
        "df1 = df[['author', 'body' ,'id','created_utc']]"
      ],
      "execution_count": null,
      "outputs": []
    },
    {
      "cell_type": "code",
      "metadata": {
        "colab": {
          "base_uri": "https://localhost:8080/",
          "height": 424
        },
        "id": "QNMl6vKiRjck",
        "outputId": "304dca1a-23a1-4050-84c2-6fa80ed73157"
      },
      "source": [
        "df1.dropna()"
      ],
      "execution_count": null,
      "outputs": [
        {
          "output_type": "execute_result",
          "data": {
            "text/html": [
              "<div>\n",
              "<style scoped>\n",
              "    .dataframe tbody tr th:only-of-type {\n",
              "        vertical-align: middle;\n",
              "    }\n",
              "\n",
              "    .dataframe tbody tr th {\n",
              "        vertical-align: top;\n",
              "    }\n",
              "\n",
              "    .dataframe thead th {\n",
              "        text-align: right;\n",
              "    }\n",
              "</style>\n",
              "<table border=\"1\" class=\"dataframe\">\n",
              "  <thead>\n",
              "    <tr style=\"text-align: right;\">\n",
              "      <th></th>\n",
              "      <th>author</th>\n",
              "      <th>body</th>\n",
              "      <th>id</th>\n",
              "      <th>created_utc</th>\n",
              "    </tr>\n",
              "  </thead>\n",
              "  <tbody>\n",
              "    <tr>\n",
              "      <th>0</th>\n",
              "      <td>nateliason</td>\n",
              "      <td>Great! Head over to millennialnomads.com, plug...</td>\n",
              "      <td>cpf0nc7</td>\n",
              "      <td>1426370466</td>\n",
              "    </tr>\n",
              "    <tr>\n",
              "      <th>1</th>\n",
              "      <td>Gekko463</td>\n",
              "      <td>They won't let you.  Only at renewal.</td>\n",
              "      <td>cpf0ash</td>\n",
              "      <td>1426369733</td>\n",
              "    </tr>\n",
              "    <tr>\n",
              "      <th>2</th>\n",
              "      <td>[deleted]</td>\n",
              "      <td>[deleted]</td>\n",
              "      <td>cpf02kj</td>\n",
              "      <td>1426369250</td>\n",
              "    </tr>\n",
              "    <tr>\n",
              "      <th>3</th>\n",
              "      <td>Topiary_goat</td>\n",
              "      <td>I've always considered expats to be those who ...</td>\n",
              "      <td>cpezkna</td>\n",
              "      <td>1426368233</td>\n",
              "    </tr>\n",
              "    <tr>\n",
              "      <th>4</th>\n",
              "      <td>scottkeyes</td>\n",
              "      <td>just standard index &amp;amp; lifecycle funds. dil...</td>\n",
              "      <td>cpexumy</td>\n",
              "      <td>1426364785</td>\n",
              "    </tr>\n",
              "    <tr>\n",
              "      <th>...</th>\n",
              "      <td>...</td>\n",
              "      <td>...</td>\n",
              "      <td>...</td>\n",
              "      <td>...</td>\n",
              "    </tr>\n",
              "    <tr>\n",
              "      <th>25142</th>\n",
              "      <td>thunder_cougar</td>\n",
              "      <td>I've also been doing the Beginner Routine. I'm...</td>\n",
              "      <td>cuggcs6</td>\n",
              "      <td>1440609220</td>\n",
              "    </tr>\n",
              "    <tr>\n",
              "      <th>25143</th>\n",
              "      <td>ZyklusDieWelt</td>\n",
              "      <td>&amp;gt; Nowhere in my previous comments was I \"sh...</td>\n",
              "      <td>cugg50w</td>\n",
              "      <td>1440608896</td>\n",
              "    </tr>\n",
              "    <tr>\n",
              "      <th>25144</th>\n",
              "      <td>fortist</td>\n",
              "      <td>I'm getting 5-10 mbit/sec upload with 4G, but ...</td>\n",
              "      <td>cugfkxb</td>\n",
              "      <td>1440608052</td>\n",
              "    </tr>\n",
              "    <tr>\n",
              "      <th>25145</th>\n",
              "      <td>Yousernamed</td>\n",
              "      <td>It's a shame you are getting upset. I thought ...</td>\n",
              "      <td>cugfcyg</td>\n",
              "      <td>1440607724</td>\n",
              "    </tr>\n",
              "    <tr>\n",
              "      <th>25146</th>\n",
              "      <td>belenos46</td>\n",
              "      <td>I haven't bashed a programmer yet: just your a...</td>\n",
              "      <td>cugf5u4</td>\n",
              "      <td>1440607430</td>\n",
              "    </tr>\n",
              "  </tbody>\n",
              "</table>\n",
              "<p>25132 rows × 4 columns</p>\n",
              "</div>"
            ],
            "text/plain": [
              "               author  ... created_utc\n",
              "0          nateliason  ...  1426370466\n",
              "1            Gekko463  ...  1426369733\n",
              "2           [deleted]  ...  1426369250\n",
              "3        Topiary_goat  ...  1426368233\n",
              "4          scottkeyes  ...  1426364785\n",
              "...               ...  ...         ...\n",
              "25142  thunder_cougar  ...  1440609220\n",
              "25143   ZyklusDieWelt  ...  1440608896\n",
              "25144         fortist  ...  1440608052\n",
              "25145     Yousernamed  ...  1440607724\n",
              "25146       belenos46  ...  1440607430\n",
              "\n",
              "[25132 rows x 4 columns]"
            ]
          },
          "metadata": {
            "tags": []
          },
          "execution_count": 11
        }
      ]
    },
    {
      "cell_type": "code",
      "metadata": {
        "id": "1OEaU6j6Rje0"
      },
      "source": [
        "#changing dtype of df1 to string and making a copy of the dataframe\n",
        "type(clean(df1.body[0]))\n",
        "df1.body = df1.body.astype(str)\n"
      ],
      "execution_count": null,
      "outputs": []
    },
    {
      "cell_type": "code",
      "metadata": {
        "id": "aWv6wM9dz0W2"
      },
      "source": [
        "count = 0\n",
        "df1.dropna()\n",
        "\n",
        "#df1 = df1.drop(labels=2, axis=0)\n",
        "\n",
        "for i in range (len(df1)):\n",
        "  df1.body[i] = clean(df1.body[i])\n",
        "  \n",
        "  \n",
        "  \n",
        "\n",
        "\n",
        " "
      ],
      "execution_count": null,
      "outputs": []
    },
    {
      "cell_type": "code",
      "metadata": {
        "colab": {
          "base_uri": "https://localhost:8080/"
        },
        "id": "o3HJzL5QG1xT",
        "outputId": "c5ead089-e47f-4912-903b-d8b3e6ff44cf"
      },
      "source": [
        "df1.shape"
      ],
      "execution_count": null,
      "outputs": [
        {
          "output_type": "execute_result",
          "data": {
            "text/plain": [
              "(25147, 4)"
            ]
          },
          "metadata": {
            "tags": []
          },
          "execution_count": 14
        }
      ]
    },
    {
      "cell_type": "code",
      "metadata": {
        "id": "y-CV4pvtz0Zj"
      },
      "source": [
        "\n",
        "\n",
        "for i in range(len(df1.body)) :\n",
        "  try:\n",
        "    if( len(df1.body[i][0]) == 7 ):\n",
        "      \n",
        "      df1 = df1.drop(index=df1.index[[i]])\n",
        "    if (len(df1.body[i]) < 3):\n",
        "      df1 = df1.drop(index=df1.index[[i]])\n",
        "       \n",
        "       #df1.drop(label=[\"[deleted]\"], inplace = True)\n",
        "       #df1.drop(index=df1.index[[i]])\n",
        "    \n",
        "  except:\n",
        "    x=0\n",
        "\n",
        "\n",
        "\n",
        "\n",
        "df2 = df1.copy()\n",
        "\n"
      ],
      "execution_count": null,
      "outputs": []
    },
    {
      "cell_type": "code",
      "metadata": {
        "colab": {
          "base_uri": "https://localhost:8080/"
        },
        "id": "YGc7xRUQkqAd",
        "outputId": "fd26978a-8bd7-48e6-df5d-75e95f1c290c"
      },
      "source": [
        "df1.shape"
      ],
      "execution_count": null,
      "outputs": [
        {
          "output_type": "execute_result",
          "data": {
            "text/plain": [
              "(22168, 4)"
            ]
          },
          "metadata": {
            "tags": []
          },
          "execution_count": 16
        }
      ]
    },
    {
      "cell_type": "code",
      "metadata": {
        "colab": {
          "base_uri": "https://localhost:8080/",
          "height": 206
        },
        "id": "RWvKr7Ilwz-Q",
        "outputId": "e0fc6936-e6c5-418b-aa6b-ba0954e1a031"
      },
      "source": [
        "#ls = {}\n",
        "#for i in range (len(df.body)):\n",
        "#  ls[i]= (clean(df.body[i]))\n",
        "#print(type(clean(df.body[i])))\n",
        "#df1.drop(index=df1.index[[2]])\n",
        "\n",
        "df2.head()\n",
        "df3 = df2[[\"author\",\"body\",\"id\",\"created_utc\"]]\n",
        "#df3 = df1.drop(index=df1.index[[2]])\n",
        "df3.head()"
      ],
      "execution_count": null,
      "outputs": [
        {
          "output_type": "execute_result",
          "data": {
            "text/html": [
              "<div>\n",
              "<style scoped>\n",
              "    .dataframe tbody tr th:only-of-type {\n",
              "        vertical-align: middle;\n",
              "    }\n",
              "\n",
              "    .dataframe tbody tr th {\n",
              "        vertical-align: top;\n",
              "    }\n",
              "\n",
              "    .dataframe thead th {\n",
              "        text-align: right;\n",
              "    }\n",
              "</style>\n",
              "<table border=\"1\" class=\"dataframe\">\n",
              "  <thead>\n",
              "    <tr style=\"text-align: right;\">\n",
              "      <th></th>\n",
              "      <th>author</th>\n",
              "      <th>body</th>\n",
              "      <th>id</th>\n",
              "      <th>created_utc</th>\n",
              "    </tr>\n",
              "  </thead>\n",
              "  <tbody>\n",
              "    <tr>\n",
              "      <th>0</th>\n",
              "      <td>nateliason</td>\n",
              "      <td>[Great, Head, over, to, millennialnomadscom, p...</td>\n",
              "      <td>cpf0nc7</td>\n",
              "      <td>1426370466</td>\n",
              "    </tr>\n",
              "    <tr>\n",
              "      <th>1</th>\n",
              "      <td>Gekko463</td>\n",
              "      <td>[They, wont, let, you, Only, at, renewal]</td>\n",
              "      <td>cpf0ash</td>\n",
              "      <td>1426369733</td>\n",
              "    </tr>\n",
              "    <tr>\n",
              "      <th>3</th>\n",
              "      <td>Topiary_goat</td>\n",
              "      <td>[Ive, always, considered, expat, to, be, those...</td>\n",
              "      <td>cpezkna</td>\n",
              "      <td>1426368233</td>\n",
              "    </tr>\n",
              "    <tr>\n",
              "      <th>4</th>\n",
              "      <td>scottkeyes</td>\n",
              "      <td>[just, standard, index, amp, lifecycle, fund, ...</td>\n",
              "      <td>cpexumy</td>\n",
              "      <td>1426364785</td>\n",
              "    </tr>\n",
              "    <tr>\n",
              "      <th>5</th>\n",
              "      <td>MsKim</td>\n",
              "      <td>[Dumb, race, baiting, article, Expats, are, no...</td>\n",
              "      <td>cpexrld</td>\n",
              "      <td>1426364611</td>\n",
              "    </tr>\n",
              "  </tbody>\n",
              "</table>\n",
              "</div>"
            ],
            "text/plain": [
              "         author  ... created_utc\n",
              "0    nateliason  ...  1426370466\n",
              "1      Gekko463  ...  1426369733\n",
              "3  Topiary_goat  ...  1426368233\n",
              "4    scottkeyes  ...  1426364785\n",
              "5         MsKim  ...  1426364611\n",
              "\n",
              "[5 rows x 4 columns]"
            ]
          },
          "metadata": {
            "tags": []
          },
          "execution_count": 17
        }
      ]
    },
    {
      "cell_type": "code",
      "metadata": {
        "colab": {
          "base_uri": "https://localhost:8080/",
          "height": 206
        },
        "id": "OCcN-ldxIuVX",
        "outputId": "0abb9d77-5615-4040-e44b-e0e5441bdb96"
      },
      "source": [
        "\n",
        "df3 = df3.reset_index(drop=\"True\")\n",
        "df3.head()"
      ],
      "execution_count": null,
      "outputs": [
        {
          "output_type": "execute_result",
          "data": {
            "text/html": [
              "<div>\n",
              "<style scoped>\n",
              "    .dataframe tbody tr th:only-of-type {\n",
              "        vertical-align: middle;\n",
              "    }\n",
              "\n",
              "    .dataframe tbody tr th {\n",
              "        vertical-align: top;\n",
              "    }\n",
              "\n",
              "    .dataframe thead th {\n",
              "        text-align: right;\n",
              "    }\n",
              "</style>\n",
              "<table border=\"1\" class=\"dataframe\">\n",
              "  <thead>\n",
              "    <tr style=\"text-align: right;\">\n",
              "      <th></th>\n",
              "      <th>author</th>\n",
              "      <th>body</th>\n",
              "      <th>id</th>\n",
              "      <th>created_utc</th>\n",
              "    </tr>\n",
              "  </thead>\n",
              "  <tbody>\n",
              "    <tr>\n",
              "      <th>0</th>\n",
              "      <td>nateliason</td>\n",
              "      <td>[Great, Head, over, to, millennialnomadscom, p...</td>\n",
              "      <td>cpf0nc7</td>\n",
              "      <td>1426370466</td>\n",
              "    </tr>\n",
              "    <tr>\n",
              "      <th>1</th>\n",
              "      <td>Gekko463</td>\n",
              "      <td>[They, wont, let, you, Only, at, renewal]</td>\n",
              "      <td>cpf0ash</td>\n",
              "      <td>1426369733</td>\n",
              "    </tr>\n",
              "    <tr>\n",
              "      <th>2</th>\n",
              "      <td>Topiary_goat</td>\n",
              "      <td>[Ive, always, considered, expat, to, be, those...</td>\n",
              "      <td>cpezkna</td>\n",
              "      <td>1426368233</td>\n",
              "    </tr>\n",
              "    <tr>\n",
              "      <th>3</th>\n",
              "      <td>scottkeyes</td>\n",
              "      <td>[just, standard, index, amp, lifecycle, fund, ...</td>\n",
              "      <td>cpexumy</td>\n",
              "      <td>1426364785</td>\n",
              "    </tr>\n",
              "    <tr>\n",
              "      <th>4</th>\n",
              "      <td>MsKim</td>\n",
              "      <td>[Dumb, race, baiting, article, Expats, are, no...</td>\n",
              "      <td>cpexrld</td>\n",
              "      <td>1426364611</td>\n",
              "    </tr>\n",
              "  </tbody>\n",
              "</table>\n",
              "</div>"
            ],
            "text/plain": [
              "         author  ... created_utc\n",
              "0    nateliason  ...  1426370466\n",
              "1      Gekko463  ...  1426369733\n",
              "2  Topiary_goat  ...  1426368233\n",
              "3    scottkeyes  ...  1426364785\n",
              "4         MsKim  ...  1426364611\n",
              "\n",
              "[5 rows x 4 columns]"
            ]
          },
          "metadata": {
            "tags": []
          },
          "execution_count": 19
        }
      ]
    },
    {
      "cell_type": "code",
      "metadata": {
        "id": "kgKp1RukdxXf"
      },
      "source": [
        ""
      ],
      "execution_count": null,
      "outputs": []
    },
    {
      "cell_type": "code",
      "metadata": {
        "colab": {
          "base_uri": "https://localhost:8080/",
          "height": 206
        },
        "id": "eQfFwnywZG51",
        "outputId": "49ed75a3-31c8-4975-a768-bda4fa6ab494"
      },
      "source": [
        "\n",
        "df2 =  df2.reset_index(drop=True)\n",
        "df2.head()"
      ],
      "execution_count": null,
      "outputs": [
        {
          "output_type": "execute_result",
          "data": {
            "text/html": [
              "<div>\n",
              "<style scoped>\n",
              "    .dataframe tbody tr th:only-of-type {\n",
              "        vertical-align: middle;\n",
              "    }\n",
              "\n",
              "    .dataframe tbody tr th {\n",
              "        vertical-align: top;\n",
              "    }\n",
              "\n",
              "    .dataframe thead th {\n",
              "        text-align: right;\n",
              "    }\n",
              "</style>\n",
              "<table border=\"1\" class=\"dataframe\">\n",
              "  <thead>\n",
              "    <tr style=\"text-align: right;\">\n",
              "      <th></th>\n",
              "      <th>author</th>\n",
              "      <th>body</th>\n",
              "      <th>id</th>\n",
              "      <th>created_utc</th>\n",
              "    </tr>\n",
              "  </thead>\n",
              "  <tbody>\n",
              "    <tr>\n",
              "      <th>0</th>\n",
              "      <td>nateliason</td>\n",
              "      <td>[Great, Head, over, to, millennialnomadscom, p...</td>\n",
              "      <td>cpf0nc7</td>\n",
              "      <td>1426370466</td>\n",
              "    </tr>\n",
              "    <tr>\n",
              "      <th>1</th>\n",
              "      <td>Gekko463</td>\n",
              "      <td>[They, wont, let, you, Only, at, renewal]</td>\n",
              "      <td>cpf0ash</td>\n",
              "      <td>1426369733</td>\n",
              "    </tr>\n",
              "    <tr>\n",
              "      <th>2</th>\n",
              "      <td>Topiary_goat</td>\n",
              "      <td>[Ive, always, considered, expat, to, be, those...</td>\n",
              "      <td>cpezkna</td>\n",
              "      <td>1426368233</td>\n",
              "    </tr>\n",
              "    <tr>\n",
              "      <th>3</th>\n",
              "      <td>scottkeyes</td>\n",
              "      <td>[just, standard, index, amp, lifecycle, fund, ...</td>\n",
              "      <td>cpexumy</td>\n",
              "      <td>1426364785</td>\n",
              "    </tr>\n",
              "    <tr>\n",
              "      <th>4</th>\n",
              "      <td>MsKim</td>\n",
              "      <td>[Dumb, race, baiting, article, Expats, are, no...</td>\n",
              "      <td>cpexrld</td>\n",
              "      <td>1426364611</td>\n",
              "    </tr>\n",
              "  </tbody>\n",
              "</table>\n",
              "</div>"
            ],
            "text/plain": [
              "         author  ... created_utc\n",
              "0    nateliason  ...  1426370466\n",
              "1      Gekko463  ...  1426369733\n",
              "2  Topiary_goat  ...  1426368233\n",
              "3    scottkeyes  ...  1426364785\n",
              "4         MsKim  ...  1426364611\n",
              "\n",
              "[5 rows x 4 columns]"
            ]
          },
          "metadata": {
            "tags": []
          },
          "execution_count": 21
        }
      ]
    },
    {
      "cell_type": "code",
      "metadata": {
        "id": "LFIxShJyw0BC"
      },
      "source": [
        "df1 =  df1.reset_index(drop=True)\n",
        "\n",
        "df1.body\n",
        "tagged =  {}"
      ],
      "execution_count": null,
      "outputs": []
    },
    {
      "cell_type": "code",
      "metadata": {
        "id": "Sq0tTmFTw0EL"
      },
      "source": [
        "for i in range (len(df1)):\n",
        "  tagged[i] = nltk.pos_tag(df1.body[i])"
      ],
      "execution_count": null,
      "outputs": []
    },
    {
      "cell_type": "code",
      "metadata": {
        "colab": {
          "base_uri": "https://localhost:8080/"
        },
        "id": "fzM5_tT7iVki",
        "outputId": "733c14e3-0576-48a4-9f1f-63a61f6a3983"
      },
      "source": [
        "type(tagged)"
      ],
      "execution_count": null,
      "outputs": [
        {
          "output_type": "execute_result",
          "data": {
            "text/plain": [
              "dict"
            ]
          },
          "metadata": {
            "tags": []
          },
          "execution_count": 24
        }
      ]
    },
    {
      "cell_type": "code",
      "metadata": {
        "id": "p_6qJ8hiih2Q"
      },
      "source": [
        "#tagged"
      ],
      "execution_count": null,
      "outputs": []
    },
    {
      "cell_type": "code",
      "metadata": {
        "colab": {
          "base_uri": "https://localhost:8080/"
        },
        "id": "59rFJthHoG8R",
        "outputId": "eecbf8e9-8b7a-457d-eb1d-404484dd7216"
      },
      "source": [
        "df1.body[0]"
      ],
      "execution_count": null,
      "outputs": [
        {
          "output_type": "execute_result",
          "data": {
            "text/plain": [
              "['Great',\n",
              " 'Head',\n",
              " 'over',\n",
              " 'to',\n",
              " 'millennialnomadscom',\n",
              " 'plug',\n",
              " 'in',\n",
              " 'your',\n",
              " 'info',\n",
              " 'and',\n",
              " 'Ill',\n",
              " 'add',\n",
              " 'you']"
            ]
          },
          "metadata": {
            "tags": []
          },
          "execution_count": 28
        }
      ]
    },
    {
      "cell_type": "code",
      "metadata": {
        "id": "lu7r_cayoG-m"
      },
      "source": [
        ""
      ],
      "execution_count": null,
      "outputs": []
    },
    {
      "cell_type": "code",
      "metadata": {
        "id": "AzyXNZkCoHBI"
      },
      "source": [
        ""
      ],
      "execution_count": null,
      "outputs": []
    },
    {
      "cell_type": "code",
      "metadata": {
        "id": "CuZHYif1jQiu"
      },
      "source": [
        "def get_tweet_sentiment(self):\n",
        "        '''\n",
        "        Utility function to classify sentiment of passed tweet\n",
        "        using textblob's sentiment method\n",
        "        '''\n",
        "        # create TextBlob object of passed tweet text\n",
        "        analysis = TextBlob(self)\n",
        "        # set sentiment\n",
        "        if analysis.sentiment.polarity > 0:\n",
        "            return 'positive'\n",
        "        elif analysis.sentiment.polarity == 0:\n",
        "            return 'neutral'\n",
        "        else:\n",
        "            return 'negative'\n",
        "\n"
      ],
      "execution_count": null,
      "outputs": []
    },
    {
      "cell_type": "code",
      "metadata": {
        "colab": {
          "base_uri": "https://localhost:8080/"
        },
        "id": "d_FmMBiNnIsX",
        "outputId": "b8208985-cd5f-4eef-97e7-bc1c43235f81"
      },
      "source": [
        "df1.body.dropna"
      ],
      "execution_count": null,
      "outputs": [
        {
          "output_type": "execute_result",
          "data": {
            "text/plain": [
              "<bound method Series.dropna of 0        [Great, Head, over, to, millennialnomadscom, p...\n",
              "1                [They, wont, let, you, Only, at, renewal]\n",
              "2        [Ive, always, considered, expat, to, be, those...\n",
              "3        [just, standard, index, amp, lifecycle, fund, ...\n",
              "4        [Dumb, race, baiting, article, Expats, are, no...\n",
              "                               ...                        \n",
              "22163    [Disagree, Ive, got, Mbit, updown, at, my, pla...\n",
              "22164    [I, like, your, new, tangent, and, agree, with...\n",
              "22165    [gt, Nowhere, in, my, previous, comment, wa, I...\n",
              "22166    [Im, getting, mbitsec, upload, with, G, but, i...\n",
              "22167    [I, havent, bashed, a, programmer, yet, just, ...\n",
              "Name: body, Length: 22168, dtype: object>"
            ]
          },
          "metadata": {
            "tags": []
          },
          "execution_count": 30
        }
      ]
    },
    {
      "cell_type": "code",
      "metadata": {
        "colab": {
          "base_uri": "https://localhost:8080/"
        },
        "id": "R5dz3lFLnIvv",
        "outputId": "28dd7ce1-2270-432e-c49b-37e61ba2fcec"
      },
      "source": [
        "df2.body"
      ],
      "execution_count": null,
      "outputs": [
        {
          "output_type": "execute_result",
          "data": {
            "text/plain": [
              "0        [Great, Head, over, to, millennialnomadscom, p...\n",
              "1                [They, wont, let, you, Only, at, renewal]\n",
              "2        [Ive, always, considered, expat, to, be, those...\n",
              "3        [just, standard, index, amp, lifecycle, fund, ...\n",
              "4        [Dumb, race, baiting, article, Expats, are, no...\n",
              "                               ...                        \n",
              "22163    [Disagree, Ive, got, Mbit, updown, at, my, pla...\n",
              "22164    [I, like, your, new, tangent, and, agree, with...\n",
              "22165    [gt, Nowhere, in, my, previous, comment, wa, I...\n",
              "22166    [Im, getting, mbitsec, upload, with, G, but, i...\n",
              "22167    [I, havent, bashed, a, programmer, yet, just, ...\n",
              "Name: body, Length: 22168, dtype: object"
            ]
          },
          "metadata": {
            "tags": []
          },
          "execution_count": 31
        }
      ]
    },
    {
      "cell_type": "code",
      "metadata": {
        "id": "42VIuDaZnIxz"
      },
      "source": [
        "df2.body = df2.body.astype(str)\n",
        "ls = []\n",
        "for i in range(len(df2)):\n",
        "  ls.append(get_tweet_sentiment(df2.body[i]))\n",
        "df2['sentiment'] = ls\n",
        "\n",
        "  \n",
        "\n",
        "\n",
        "\n",
        "  "
      ],
      "execution_count": null,
      "outputs": []
    },
    {
      "cell_type": "code",
      "metadata": {
        "colab": {
          "base_uri": "https://localhost:8080/"
        },
        "id": "JbqSW4WtrfEj",
        "outputId": "c3427549-82e5-4991-ef3f-912fedfd68ef"
      },
      "source": [
        "df2.shape\n"
      ],
      "execution_count": null,
      "outputs": [
        {
          "output_type": "execute_result",
          "data": {
            "text/plain": [
              "(22168, 5)"
            ]
          },
          "metadata": {
            "tags": []
          },
          "execution_count": 33
        }
      ]
    },
    {
      "cell_type": "code",
      "metadata": {
        "colab": {
          "base_uri": "https://localhost:8080/"
        },
        "id": "PM7Bc4x1DtR9",
        "outputId": "1c6f5189-3a83-4b20-eab4-787c88854e07"
      },
      "source": [
        "!pip install rake-nltk\n",
        "\n",
        "from rake_nltk import Rake\n",
        "\n",
        "r = Rake() # Uses stopwords for english from NLTK, and all puntuation characters.\n",
        "\n",
        "\n"
      ],
      "execution_count": null,
      "outputs": [
        {
          "output_type": "stream",
          "text": [
            "Requirement already satisfied: rake-nltk in /usr/local/lib/python3.7/dist-packages (1.0.4)\n",
            "Requirement already satisfied: nltk in /usr/local/lib/python3.7/dist-packages (from rake-nltk) (3.2.5)\n",
            "Requirement already satisfied: six in /usr/local/lib/python3.7/dist-packages (from nltk->rake-nltk) (1.15.0)\n"
          ],
          "name": "stdout"
        }
      ]
    },
    {
      "cell_type": "code",
      "metadata": {
        "id": "siMb99pIEsRo"
      },
      "source": [
        "def key(text):\n",
        "  r.extract_keywords_from_text(text)\n",
        "  tss = r.get_ranked_phrases() # To get keyword phrases ranked highest to lowest.\n",
        "  return tss[0] "
      ],
      "execution_count": null,
      "outputs": []
    },
    {
      "cell_type": "code",
      "metadata": {
        "id": "V0pIFjO4EsTS"
      },
      "source": [
        "df1.body = df1.body.astype(str)\n",
        "ls = []\n",
        "for i in range (len(df1)):\n",
        "  ls.append(key(df1.body[i]))"
      ],
      "execution_count": null,
      "outputs": []
    },
    {
      "cell_type": "code",
      "metadata": {
        "id": "kwfNkHvHEsVr"
      },
      "source": [
        "for i in range (len(ls)) :\n",
        "  ls[i] = clean(ls[i])"
      ],
      "execution_count": null,
      "outputs": []
    },
    {
      "cell_type": "code",
      "metadata": {
        "id": "CWVTHC6pl_3S"
      },
      "source": [
        ""
      ],
      "execution_count": null,
      "outputs": []
    },
    {
      "cell_type": "code",
      "metadata": {
        "colab": {
          "base_uri": "https://localhost:8080/",
          "height": 206
        },
        "id": "dmu5-xtgEsYO",
        "outputId": "8a5a732e-df08-4583-cb7a-e564ad93fdb4"
      },
      "source": [
        "df1.head()"
      ],
      "execution_count": null,
      "outputs": [
        {
          "output_type": "execute_result",
          "data": {
            "text/html": [
              "<div>\n",
              "<style scoped>\n",
              "    .dataframe tbody tr th:only-of-type {\n",
              "        vertical-align: middle;\n",
              "    }\n",
              "\n",
              "    .dataframe tbody tr th {\n",
              "        vertical-align: top;\n",
              "    }\n",
              "\n",
              "    .dataframe thead th {\n",
              "        text-align: right;\n",
              "    }\n",
              "</style>\n",
              "<table border=\"1\" class=\"dataframe\">\n",
              "  <thead>\n",
              "    <tr style=\"text-align: right;\">\n",
              "      <th></th>\n",
              "      <th>author</th>\n",
              "      <th>body</th>\n",
              "      <th>id</th>\n",
              "      <th>created_utc</th>\n",
              "    </tr>\n",
              "  </thead>\n",
              "  <tbody>\n",
              "    <tr>\n",
              "      <th>0</th>\n",
              "      <td>nateliason</td>\n",
              "      <td>['Great', 'Head', 'over', 'to', 'millennialnom...</td>\n",
              "      <td>cpf0nc7</td>\n",
              "      <td>1426370466</td>\n",
              "    </tr>\n",
              "    <tr>\n",
              "      <th>1</th>\n",
              "      <td>Gekko463</td>\n",
              "      <td>['They', 'wont', 'let', 'you', 'Only', 'at', '...</td>\n",
              "      <td>cpf0ash</td>\n",
              "      <td>1426369733</td>\n",
              "    </tr>\n",
              "    <tr>\n",
              "      <th>2</th>\n",
              "      <td>Topiary_goat</td>\n",
              "      <td>['Ive', 'always', 'considered', 'expat', 'to',...</td>\n",
              "      <td>cpezkna</td>\n",
              "      <td>1426368233</td>\n",
              "    </tr>\n",
              "    <tr>\n",
              "      <th>3</th>\n",
              "      <td>scottkeyes</td>\n",
              "      <td>['just', 'standard', 'index', 'amp', 'lifecycl...</td>\n",
              "      <td>cpexumy</td>\n",
              "      <td>1426364785</td>\n",
              "    </tr>\n",
              "    <tr>\n",
              "      <th>4</th>\n",
              "      <td>MsKim</td>\n",
              "      <td>['Dumb', 'race', 'baiting', 'article', 'Expats...</td>\n",
              "      <td>cpexrld</td>\n",
              "      <td>1426364611</td>\n",
              "    </tr>\n",
              "  </tbody>\n",
              "</table>\n",
              "</div>"
            ],
            "text/plain": [
              "         author  ... created_utc\n",
              "0    nateliason  ...  1426370466\n",
              "1      Gekko463  ...  1426369733\n",
              "2  Topiary_goat  ...  1426368233\n",
              "3    scottkeyes  ...  1426364785\n",
              "4         MsKim  ...  1426364611\n",
              "\n",
              "[5 rows x 4 columns]"
            ]
          },
          "metadata": {
            "tags": []
          },
          "execution_count": 38
        }
      ]
    },
    {
      "cell_type": "code",
      "metadata": {
        "id": "OKZHcpXGDtUa"
      },
      "source": [
        "df1['key_topic'] = ls\n",
        "df1['taggedW'] = tagged\n",
        "df1['sentiment'] = df2['sentiment']"
      ],
      "execution_count": null,
      "outputs": []
    },
    {
      "cell_type": "code",
      "metadata": {
        "id": "Tn-pFHZ5DtW4"
      },
      "source": [
        "\n",
        "#trying to delete the [deleted] list length 11\n",
        "len(df1.body[2])\n",
        "for i in range (len(df1)):\n",
        "  if (len(df1.body[i]) == 7 ):\n",
        "    df1 = df1.drop([df.index[i]])"
      ],
      "execution_count": null,
      "outputs": []
    },
    {
      "cell_type": "code",
      "metadata": {
        "id": "pn747jTYJnVm"
      },
      "source": [
        ""
      ],
      "execution_count": null,
      "outputs": []
    },
    {
      "cell_type": "code",
      "metadata": {
        "colab": {
          "base_uri": "https://localhost:8080/",
          "height": 206
        },
        "id": "lYg1butymLh8",
        "outputId": "9187bce2-5ef8-45ba-e116-83f82be19f6d"
      },
      "source": [
        "df1.head()"
      ],
      "execution_count": null,
      "outputs": [
        {
          "output_type": "execute_result",
          "data": {
            "text/html": [
              "<div>\n",
              "<style scoped>\n",
              "    .dataframe tbody tr th:only-of-type {\n",
              "        vertical-align: middle;\n",
              "    }\n",
              "\n",
              "    .dataframe tbody tr th {\n",
              "        vertical-align: top;\n",
              "    }\n",
              "\n",
              "    .dataframe thead th {\n",
              "        text-align: right;\n",
              "    }\n",
              "</style>\n",
              "<table border=\"1\" class=\"dataframe\">\n",
              "  <thead>\n",
              "    <tr style=\"text-align: right;\">\n",
              "      <th></th>\n",
              "      <th>author</th>\n",
              "      <th>body</th>\n",
              "      <th>id</th>\n",
              "      <th>created_utc</th>\n",
              "      <th>key_topic</th>\n",
              "      <th>taggedW</th>\n",
              "      <th>sentiment</th>\n",
              "    </tr>\n",
              "  </thead>\n",
              "  <tbody>\n",
              "    <tr>\n",
              "      <th>0</th>\n",
              "      <td>nateliason</td>\n",
              "      <td>['Great', 'Head', 'over', 'to', 'millennialnom...</td>\n",
              "      <td>cpf0nc7</td>\n",
              "      <td>1426370466</td>\n",
              "      <td>[great]</td>\n",
              "      <td>0</td>\n",
              "      <td>positive</td>\n",
              "    </tr>\n",
              "    <tr>\n",
              "      <th>1</th>\n",
              "      <td>Gekko463</td>\n",
              "      <td>['They', 'wont', 'let', 'you', 'Only', 'at', '...</td>\n",
              "      <td>cpf0ash</td>\n",
              "      <td>1426369733</td>\n",
              "      <td>[renewal]</td>\n",
              "      <td>1</td>\n",
              "      <td>neutral</td>\n",
              "    </tr>\n",
              "    <tr>\n",
              "      <th>2</th>\n",
              "      <td>Topiary_goat</td>\n",
              "      <td>['Ive', 'always', 'considered', 'expat', 'to',...</td>\n",
              "      <td>cpezkna</td>\n",
              "      <td>1426368233</td>\n",
              "      <td>[ive]</td>\n",
              "      <td>2</td>\n",
              "      <td>positive</td>\n",
              "    </tr>\n",
              "    <tr>\n",
              "      <th>3</th>\n",
              "      <td>scottkeyes</td>\n",
              "      <td>['just', 'standard', 'index', 'amp', 'lifecycl...</td>\n",
              "      <td>cpexumy</td>\n",
              "      <td>1426364785</td>\n",
              "      <td>[year]</td>\n",
              "      <td>3</td>\n",
              "      <td>negative</td>\n",
              "    </tr>\n",
              "    <tr>\n",
              "      <th>4</th>\n",
              "      <td>MsKim</td>\n",
              "      <td>['Dumb', 'race', 'baiting', 'article', 'Expats...</td>\n",
              "      <td>cpexrld</td>\n",
              "      <td>1426364611</td>\n",
              "      <td>[dumb]</td>\n",
              "      <td>4</td>\n",
              "      <td>negative</td>\n",
              "    </tr>\n",
              "  </tbody>\n",
              "</table>\n",
              "</div>"
            ],
            "text/plain": [
              "         author  ... sentiment\n",
              "0    nateliason  ...  positive\n",
              "1      Gekko463  ...   neutral\n",
              "2  Topiary_goat  ...  positive\n",
              "3    scottkeyes  ...  negative\n",
              "4         MsKim  ...  negative\n",
              "\n",
              "[5 rows x 7 columns]"
            ]
          },
          "metadata": {
            "tags": []
          },
          "execution_count": 41
        }
      ]
    },
    {
      "cell_type": "code",
      "metadata": {
        "colab": {
          "base_uri": "https://localhost:8080/",
          "height": 206
        },
        "id": "5_BcqXufJnaZ",
        "outputId": "8d265923-2b34-419a-9e68-f98979d55789"
      },
      "source": [
        "df2.head()"
      ],
      "execution_count": null,
      "outputs": [
        {
          "output_type": "execute_result",
          "data": {
            "text/html": [
              "<div>\n",
              "<style scoped>\n",
              "    .dataframe tbody tr th:only-of-type {\n",
              "        vertical-align: middle;\n",
              "    }\n",
              "\n",
              "    .dataframe tbody tr th {\n",
              "        vertical-align: top;\n",
              "    }\n",
              "\n",
              "    .dataframe thead th {\n",
              "        text-align: right;\n",
              "    }\n",
              "</style>\n",
              "<table border=\"1\" class=\"dataframe\">\n",
              "  <thead>\n",
              "    <tr style=\"text-align: right;\">\n",
              "      <th></th>\n",
              "      <th>author</th>\n",
              "      <th>body</th>\n",
              "      <th>id</th>\n",
              "      <th>created_utc</th>\n",
              "      <th>sentiment</th>\n",
              "    </tr>\n",
              "  </thead>\n",
              "  <tbody>\n",
              "    <tr>\n",
              "      <th>0</th>\n",
              "      <td>nateliason</td>\n",
              "      <td>['Great', 'Head', 'over', 'to', 'millennialnom...</td>\n",
              "      <td>cpf0nc7</td>\n",
              "      <td>1426370466</td>\n",
              "      <td>positive</td>\n",
              "    </tr>\n",
              "    <tr>\n",
              "      <th>1</th>\n",
              "      <td>Gekko463</td>\n",
              "      <td>['They', 'wont', 'let', 'you', 'Only', 'at', '...</td>\n",
              "      <td>cpf0ash</td>\n",
              "      <td>1426369733</td>\n",
              "      <td>neutral</td>\n",
              "    </tr>\n",
              "    <tr>\n",
              "      <th>2</th>\n",
              "      <td>Topiary_goat</td>\n",
              "      <td>['Ive', 'always', 'considered', 'expat', 'to',...</td>\n",
              "      <td>cpezkna</td>\n",
              "      <td>1426368233</td>\n",
              "      <td>positive</td>\n",
              "    </tr>\n",
              "    <tr>\n",
              "      <th>3</th>\n",
              "      <td>scottkeyes</td>\n",
              "      <td>['just', 'standard', 'index', 'amp', 'lifecycl...</td>\n",
              "      <td>cpexumy</td>\n",
              "      <td>1426364785</td>\n",
              "      <td>negative</td>\n",
              "    </tr>\n",
              "    <tr>\n",
              "      <th>4</th>\n",
              "      <td>MsKim</td>\n",
              "      <td>['Dumb', 'race', 'baiting', 'article', 'Expats...</td>\n",
              "      <td>cpexrld</td>\n",
              "      <td>1426364611</td>\n",
              "      <td>negative</td>\n",
              "    </tr>\n",
              "  </tbody>\n",
              "</table>\n",
              "</div>"
            ],
            "text/plain": [
              "         author  ... sentiment\n",
              "0    nateliason  ...  positive\n",
              "1      Gekko463  ...   neutral\n",
              "2  Topiary_goat  ...  positive\n",
              "3    scottkeyes  ...  negative\n",
              "4         MsKim  ...  negative\n",
              "\n",
              "[5 rows x 5 columns]"
            ]
          },
          "metadata": {
            "tags": []
          },
          "execution_count": 42
        }
      ]
    },
    {
      "cell_type": "code",
      "metadata": {
        "colab": {
          "base_uri": "https://localhost:8080/"
        },
        "id": "wMn22Jxjym3-",
        "outputId": "992068ef-e66c-47bf-b99e-db0208ebaff4"
      },
      "source": [
        "#We calculate the number of words in each tweet and look at the length distribution.\n",
        "lens = df2.body.str.split().apply(lambda x: len(x))\n",
        "print(lens.describe())\n"
      ],
      "execution_count": null,
      "outputs": [
        {
          "output_type": "stream",
          "text": [
            "count    22168.000000\n",
            "mean        53.569605\n",
            "std         73.717186\n",
            "min          1.000000\n",
            "25%         12.000000\n",
            "50%         31.000000\n",
            "75%         65.000000\n",
            "max       1715.000000\n",
            "Name: body, dtype: float64\n"
          ],
          "name": "stdout"
        }
      ]
    },
    {
      "cell_type": "code",
      "metadata": {
        "colab": {
          "base_uri": "https://localhost:8080/",
          "height": 206
        },
        "id": "skWPpx1QlCQu",
        "outputId": "204477bd-9352-45aa-9a9f-ded30856c160"
      },
      "source": [
        "df1.head()\n",
        "### sentiment ANalysis , You can see key topic modelling by using Rake"
      ],
      "execution_count": null,
      "outputs": [
        {
          "output_type": "execute_result",
          "data": {
            "text/html": [
              "<div>\n",
              "<style scoped>\n",
              "    .dataframe tbody tr th:only-of-type {\n",
              "        vertical-align: middle;\n",
              "    }\n",
              "\n",
              "    .dataframe tbody tr th {\n",
              "        vertical-align: top;\n",
              "    }\n",
              "\n",
              "    .dataframe thead th {\n",
              "        text-align: right;\n",
              "    }\n",
              "</style>\n",
              "<table border=\"1\" class=\"dataframe\">\n",
              "  <thead>\n",
              "    <tr style=\"text-align: right;\">\n",
              "      <th></th>\n",
              "      <th>author</th>\n",
              "      <th>body</th>\n",
              "      <th>id</th>\n",
              "      <th>created_utc</th>\n",
              "      <th>key_topic</th>\n",
              "      <th>taggedW</th>\n",
              "      <th>sentiment</th>\n",
              "    </tr>\n",
              "  </thead>\n",
              "  <tbody>\n",
              "    <tr>\n",
              "      <th>0</th>\n",
              "      <td>nateliason</td>\n",
              "      <td>['Great', 'Head', 'over', 'to', 'millennialnom...</td>\n",
              "      <td>cpf0nc7</td>\n",
              "      <td>1426370466</td>\n",
              "      <td>[great]</td>\n",
              "      <td>0</td>\n",
              "      <td>positive</td>\n",
              "    </tr>\n",
              "    <tr>\n",
              "      <th>1</th>\n",
              "      <td>Gekko463</td>\n",
              "      <td>['They', 'wont', 'let', 'you', 'Only', 'at', '...</td>\n",
              "      <td>cpf0ash</td>\n",
              "      <td>1426369733</td>\n",
              "      <td>[renewal]</td>\n",
              "      <td>1</td>\n",
              "      <td>neutral</td>\n",
              "    </tr>\n",
              "    <tr>\n",
              "      <th>2</th>\n",
              "      <td>Topiary_goat</td>\n",
              "      <td>['Ive', 'always', 'considered', 'expat', 'to',...</td>\n",
              "      <td>cpezkna</td>\n",
              "      <td>1426368233</td>\n",
              "      <td>[ive]</td>\n",
              "      <td>2</td>\n",
              "      <td>positive</td>\n",
              "    </tr>\n",
              "    <tr>\n",
              "      <th>3</th>\n",
              "      <td>scottkeyes</td>\n",
              "      <td>['just', 'standard', 'index', 'amp', 'lifecycl...</td>\n",
              "      <td>cpexumy</td>\n",
              "      <td>1426364785</td>\n",
              "      <td>[year]</td>\n",
              "      <td>3</td>\n",
              "      <td>negative</td>\n",
              "    </tr>\n",
              "    <tr>\n",
              "      <th>4</th>\n",
              "      <td>MsKim</td>\n",
              "      <td>['Dumb', 'race', 'baiting', 'article', 'Expats...</td>\n",
              "      <td>cpexrld</td>\n",
              "      <td>1426364611</td>\n",
              "      <td>[dumb]</td>\n",
              "      <td>4</td>\n",
              "      <td>negative</td>\n",
              "    </tr>\n",
              "  </tbody>\n",
              "</table>\n",
              "</div>"
            ],
            "text/plain": [
              "         author  ... sentiment\n",
              "0    nateliason  ...  positive\n",
              "1      Gekko463  ...   neutral\n",
              "2  Topiary_goat  ...  positive\n",
              "3    scottkeyes  ...  negative\n",
              "4         MsKim  ...  negative\n",
              "\n",
              "[5 rows x 7 columns]"
            ]
          },
          "metadata": {
            "tags": []
          },
          "execution_count": 44
        }
      ]
    },
    {
      "cell_type": "code",
      "metadata": {
        "id": "6Ep0XAG0lCUH"
      },
      "source": [
        "df2.head()\n",
        "df2[\"retrieved_on\"] = df2[\"author\"]"
      ],
      "execution_count": null,
      "outputs": []
    },
    {
      "cell_type": "code",
      "metadata": {
        "colab": {
          "base_uri": "https://localhost:8080/"
        },
        "id": "vHO2vwjgym6F",
        "outputId": "387d0af5-2195-44d3-9238-0fd3cd7e3d5c"
      },
      "source": [
        "import nltk\n",
        "from nltk.corpus import stopwords\n",
        "nltk.download('stopwords')\n",
        "from nltk.tokenize import RegexpTokenizer\n",
        "\n",
        "from nltk.tokenize import word_tokenize\n",
        "\n",
        "\n",
        "from nltk.corpus import words\n",
        "nltk.download('words')\n",
        "\n",
        "\n",
        "\n",
        "\n",
        "my_stopwords = nltk.corpus.stopwords.words('english')\n",
        "word_rooter = nltk.stem.snowball.PorterStemmer(ignore_stopwords=False).stem\n",
        "my_punctuation = '!\"$%&\\'()*+,-./:;<=>?[\\\\]^_`{|}~•@'\n",
        "\n",
        "\n",
        "def remove_links(tweet):\n",
        "    '''Takes a string and removes web links from it'''\n",
        "    tweet = re.sub(r'http\\S+', '', tweet) # remove http links\n",
        "    tweet = re.sub(r'bit.ly/\\S+', '', tweet) # rempve bitly links\n",
        "    tweet = tweet.strip('[link]') # remove [links]\n",
        "    return tweet\n",
        "\n",
        "def remove_users(tweet):\n",
        "    '''Takes a string and removes retweet and @user information'''\n",
        "    tweet = re.sub('(RT\\s@[A-Za-z]+[A-Za-z0-9-_]+)', '', tweet) # remove retweet\n",
        "    tweet = re.sub('(@[A-Za-z]+[A-Za-z0-9-_]+)', '', tweet) # remove tweeted at\n",
        "    return tweet\n",
        "def cleanTxt(tweet, bigrams=False):\n",
        "\n",
        "\n",
        "    tweet = tweet.lower() # lower case\n",
        "    tweet = re.sub('['+my_punctuation + ']+', ' ', tweet) # strip punctuation\n",
        "    tweet = re.sub('\\s+', ' ', tweet) #remove double spacing\n",
        "    tweet = re.sub('([0-9]+)', '', tweet) # remove numbers\n",
        "    tweet_token_list = [word for word in tweet.split(' ')\n",
        "                            if word not in my_stopwords] # remove stopwords\n",
        "\n",
        "    tweet_token_list = [word_rooter(word) if '#' not in word else word\n",
        "                        for word in tweet_token_list] # apply word rooter\n",
        "    final = []\n",
        "\n",
        "    for x in tweet_token_list:\n",
        "      if x in words.words():\n",
        "        final.append(x)\n",
        "    tweet_token_list = final\n",
        "\n",
        "    if bigrams:\n",
        "        tweet_token_list = tweet_token_list+[tweet_token_list[i]+'_'+tweet_token_list[i+1]\n",
        "                                            for i in range(len(tweet_token_list)-1)]\n",
        "    tweet = ' '.join(tweet_token_list)\n",
        "    return tweet\n",
        "\n",
        "\n",
        "\n",
        "df2.retrieved_on= df1.body.apply(cleanTxt)\n"
      ],
      "execution_count": null,
      "outputs": [
        {
          "output_type": "stream",
          "text": [
            "[nltk_data] Downloading package stopwords to /root/nltk_data...\n",
            "[nltk_data]   Package stopwords is already up-to-date!\n",
            "[nltk_data] Downloading package words to /root/nltk_data...\n",
            "[nltk_data]   Package words is already up-to-date!\n"
          ],
          "name": "stdout"
        }
      ]
    },
    {
      "cell_type": "code",
      "metadata": {
        "id": "PGbo8KaXnGoE",
        "colab": {
          "base_uri": "https://localhost:8080/"
        },
        "outputId": "b8fc00f6-6010-4e6e-e442-e0bf29bee4b2"
      },
      "source": [
        "df2.retrieved_on"
      ],
      "execution_count": null,
      "outputs": [
        {
          "output_type": "execute_result",
          "data": {
            "text/plain": [
              "0         great head millennialnomadscom plug info ill ...\n",
              "1                                          wont let renew \n",
              "2         ive alway consid expat live anoth countri cer...\n",
              "3         standard index amp lifecycl fund dilig max ir...\n",
              "4         dumb race bait articl expat matter color peop...\n",
              "                               ...                        \n",
              "22163     disagre ive got mbit updown place bangkok con...\n",
              "22164     like new tangent agre uthegrinchofsr pivot go...\n",
              "22165     gt nowher previou comment wa shit idea dont k...\n",
              "22166     im get mbitsec upload g widespread yet mani c...\n",
              "22167     havent bash programm yet abysm attitud respec...\n",
              "Name: retrieved_on, Length: 22168, dtype: object"
            ]
          },
          "metadata": {
            "tags": []
          },
          "execution_count": 48
        }
      ]
    },
    {
      "cell_type": "code",
      "metadata": {
        "id": "ij5E_W1NnGql"
      },
      "source": [
        "df2.retrieved_on = df2.retrieved_on.astype(str)"
      ],
      "execution_count": null,
      "outputs": []
    },
    {
      "cell_type": "code",
      "metadata": {
        "colab": {
          "base_uri": "https://localhost:8080/",
          "height": 35
        },
        "id": "WU0K6QdZo_cW",
        "outputId": "029149bd-2ded-4114-c6e2-3b96a15f0ee2"
      },
      "source": [
        "df2.retrieved_on[0]"
      ],
      "execution_count": null,
      "outputs": [
        {
          "output_type": "execute_result",
          "data": {
            "application/vnd.google.colaboratory.intrinsic+json": {
              "type": "string"
            },
            "text/plain": [
              "' great head millennialnomadscom plug info ill add '"
            ]
          },
          "metadata": {
            "tags": []
          },
          "execution_count": 71
        }
      ]
    },
    {
      "cell_type": "code",
      "metadata": {
        "id": "dgNsfq8bqqx_"
      },
      "source": [
        "\n",
        "cln = df2.retrieved_on"
      ],
      "execution_count": null,
      "outputs": []
    },
    {
      "cell_type": "code",
      "metadata": {
        "id": "WsrAeTElqq0Z"
      },
      "source": [
        ""
      ],
      "execution_count": null,
      "outputs": []
    },
    {
      "cell_type": "code",
      "metadata": {
        "id": "40weL_M4qq2z"
      },
      "source": [
        ""
      ],
      "execution_count": null,
      "outputs": []
    },
    {
      "cell_type": "code",
      "metadata": {
        "id": "imRcV1EvnAlk"
      },
      "source": [
        "\n",
        "\n"
      ],
      "execution_count": null,
      "outputs": []
    },
    {
      "cell_type": "code",
      "metadata": {
        "colab": {
          "base_uri": "https://localhost:8080/",
          "height": 632
        },
        "id": "buzBlSj2rOdO",
        "outputId": "944c9f1a-c52b-41e5-ec17-4604680c48d7"
      },
      "source": [
        "\n",
        "from wordcloud import WordCloud, STOPWORDS\n",
        "stopwords = set(STOPWORDS) \n",
        "\n",
        "def worldcloud_(listd,str_):\n",
        "  wordcloud = WordCloud(width = 800, height = 800, \n",
        "            background_color ='white', \n",
        "            stopwords = stopwords, \n",
        "            min_font_size = 10).generate(str(listd)) \n",
        "\n",
        "\n",
        "  plt.figure(figsize = (8, 8), facecolor = None) \n",
        "  plt.imshow(wordcloud) \n",
        "  plt.axis(\"off\") \n",
        "  plt.tight_layout(pad = 0) \n",
        "  plt.title (str_, size=24)\n",
        "  plt.show() \n",
        "\n",
        "worldcloud_(cln, \"Word Cloud\")\n"
      ],
      "execution_count": null,
      "outputs": [
        {
          "output_type": "display_data",
          "data": {
            "image/png": "[encoded data removed]",
            "text/plain": [
              "<Figure size 576x576 with 1 Axes>"
            ]
          },
          "metadata": {
            "tags": [],
            "needs_background": "light"
          }
        }
      ]
    },
    {
      "cell_type": "code",
      "metadata": {
        "id": "ree4vlGViILr"
      },
      "source": [
        "\n"
      ],
      "execution_count": null,
      "outputs": []
    },
    {
      "cell_type": "code",
      "metadata": {
        "id": "xLMlWlxnnAoI"
      },
      "source": [
        ""
      ],
      "execution_count": null,
      "outputs": []
    },
    {
      "cell_type": "code",
      "metadata": {
        "id": "DEj_hs_TiKv-"
      },
      "source": [
        ""
      ],
      "execution_count": null,
      "outputs": []
    },
    {
      "cell_type": "code",
      "metadata": {
        "id": "n2rY1Jo1iKyv"
      },
      "source": [
        "import matplotlib.pyplot as plt\n",
        "\n",
        "cln = [' '.join(cln)]\n",
        "listToStr = ' '.join(map(str, cln))   \n",
        "\n",
        "\n",
        "def extract_ngrams(data, num):\n",
        "    n_grams = ngrams(nltk.word_tokenize(data), num)\n",
        "    return [ ' '.join(grams) for grams in n_grams]\n",
        "\n",
        "\n"
      ],
      "execution_count": null,
      "outputs": []
    },
    {
      "cell_type": "code",
      "metadata": {
        "id": "mWFAFYCHiK0_"
      },
      "source": [
        "#"
      ],
      "execution_count": null,
      "outputs": []
    },
    {
      "cell_type": "code",
      "metadata": {
        "colab": {
          "base_uri": "https://localhost:8080/",
          "height": 1000
        },
        "id": "KzehyiFLuiqa",
        "outputId": "c02d9304-2078-4b64-99dd-912a8cd55778"
      },
      "source": [
        "def grams3(lts,str_):\n",
        "  onegram = (\"1-gram: \", extract_ngrams(lts, 1))\n",
        "  twogram = (\"2-gram: \", extract_ngrams(lts, 2))\n",
        "  threegram = (\"3-gram: \", extract_ngrams(lts, 3))\n",
        "  fourgram = (\"4-gram: \", extract_ngrams(lts, 4))\n",
        "\n",
        "  unigramFreq = collections.Counter(list(onegram[1]))\n",
        "  trigramFreq = collections.Counter(list(threegram[1]))\n",
        "  bigramFreq = collections.Counter(list(twogram[1]))\n",
        "  quadgramFreq = collections.Counter(list(fourgram[1]))\n",
        "  quadgramFreq.most_common(10)\n",
        "  top30 = bigramFreq.most_common(30)\n",
        "  top30quad = quadgramFreq.most_common(30)\n",
        "  top30uni = unigramFreq.most_common(30)\n",
        "  top30tri = trigramFreq.most_common(30)\n",
        "  top30qtri  = [list(elem) for elem in top30tri]\n",
        "  xs, ys = [*zip(*top30)]\n",
        "  plt.figure(figsize=(20,15), )\n",
        "  plt.rcParams.update({'font.size': 22})\n",
        "  plt.barh(xs,ys)\n",
        "  plt.title (str_)\n",
        "\n",
        "  xs, ys = [*zip(*top30tri)]\n",
        "  plt.figure(figsize=(20,15), )\n",
        "  plt.rcParams.update({'font.size': 22})\n",
        "  plt.barh(xs,ys)\n",
        "  plt.title (\"Top 3 grams\")\n",
        "\n",
        "\n",
        "  xs, ys = [*zip(*top30quad)]\n",
        "  plt.figure(figsize=(20,15), )\n",
        "  plt.rcParams.update({'font.size': 22})\n",
        "  plt.barh(xs,ys)\n",
        "  plt.title (\"Top 4 grams\")\n",
        "\n",
        "\n",
        "\n",
        "\n",
        "\n",
        "\n",
        "grams3(listToStr,\"top 2 grams\")"
      ],
      "execution_count": null,
      "outputs": [
        {
          "output_type": "display_data",
          "data": {
            "image/png": "[encoded data removed]",
            "text/plain": [
              "<Figure size 1440x1080 with 1 Axes>"
            ]
          },
          "metadata": {
            "tags": [],
            "needs_background": "light"
          }
        },
        {
          "output_type": "display_data",
          "data": {
            "image/png": "[encoded data removed]",
            "text/plain": [
              "<Figure size 1440x1080 with 1 Axes>"
            ]
          },
          "metadata": {
            "tags": [],
            "needs_background": "light"
          }
        },
        {
          "output_type": "display_data",
          "data": {
            "image/png": "[encoded data removed]",
            "text/plain": [
              "<Figure size 1440x1080 with 1 Axes>"
            ]
          },
          "metadata": {
            "tags": [],
            "needs_background": "light"
          }
        }
      ]
    },
    {
      "cell_type": "code",
      "metadata": {
        "id": "w6gj7SeKiK3g"
      },
      "source": [
        "df2.head() \n",
        "fss = []\n",
        "for i in range(len(df2)):\n",
        "  fss.append(df2.body[i])"
      ],
      "execution_count": null,
      "outputs": []
    },
    {
      "cell_type": "code",
      "metadata": {
        "id": "LU0d_A-piK6A"
      },
      "source": [
        "import spacy\n",
        "nlp = spacy.load('en')\n",
        "named = []\n",
        "\n",
        "  \n",
        "\n",
        "\n",
        "#print([ent for ent in named])"
      ],
      "execution_count": null,
      "outputs": []
    },
    {
      "cell_type": "code",
      "metadata": {
        "id": "uDPATQP_BUjm"
      },
      "source": [
        ""
      ],
      "execution_count": null,
      "outputs": []
    },
    {
      "cell_type": "code",
      "metadata": {
        "id": "4nD9KqFCMSc6"
      },
      "source": [
        "for i in fss :\n",
        "  named.append(i)"
      ],
      "execution_count": null,
      "outputs": []
    },
    {
      "cell_type": "code",
      "metadata": {
        "colab": {
          "base_uri": "https://localhost:8080/"
        },
        "id": "raWNo7eHTmhz",
        "outputId": "f760094f-5864-4491-ff6d-bef3c797ee5f"
      },
      "source": [
        "len(named)"
      ],
      "execution_count": null,
      "outputs": [
        {
          "output_type": "execute_result",
          "data": {
            "text/plain": [
              "23406"
            ]
          },
          "metadata": {
            "tags": []
          },
          "execution_count": 56
        }
      ]
    },
    {
      "cell_type": "code",
      "metadata": {
        "id": "6yfH5r2BZX0_"
      },
      "source": [
        ""
      ],
      "execution_count": null,
      "outputs": []
    },
    {
      "cell_type": "code",
      "metadata": {
        "id": "hzChhVWmaR9u"
      },
      "source": [
        ""
      ],
      "execution_count": null,
      "outputs": []
    },
    {
      "cell_type": "code",
      "metadata": {
        "id": "0OWTPY2XZgAL"
      },
      "source": [
        ""
      ],
      "execution_count": null,
      "outputs": []
    },
    {
      "cell_type": "code",
      "metadata": {
        "colab": {
          "base_uri": "https://localhost:8080/",
          "height": 206
        },
        "id": "z5AlHujLZgDg",
        "outputId": "e9220ddd-60ea-484f-d2a2-3f5f7208d9c5"
      },
      "source": [
        "df2.head()"
      ],
      "execution_count": null,
      "outputs": [
        {
          "output_type": "execute_result",
          "data": {
            "text/html": [
              "<div>\n",
              "<style scoped>\n",
              "    .dataframe tbody tr th:only-of-type {\n",
              "        vertical-align: middle;\n",
              "    }\n",
              "\n",
              "    .dataframe tbody tr th {\n",
              "        vertical-align: top;\n",
              "    }\n",
              "\n",
              "    .dataframe thead th {\n",
              "        text-align: right;\n",
              "    }\n",
              "</style>\n",
              "<table border=\"1\" class=\"dataframe\">\n",
              "  <thead>\n",
              "    <tr style=\"text-align: right;\">\n",
              "      <th></th>\n",
              "      <th>author</th>\n",
              "      <th>body</th>\n",
              "      <th>id</th>\n",
              "      <th>created_utc</th>\n",
              "      <th>sentiment</th>\n",
              "      <th>retrieved_on</th>\n",
              "    </tr>\n",
              "  </thead>\n",
              "  <tbody>\n",
              "    <tr>\n",
              "      <th>0</th>\n",
              "      <td>nateliason</td>\n",
              "      <td>['Great', 'Head', 'over', 'to', 'millennialnom...</td>\n",
              "      <td>cpf0nc7</td>\n",
              "      <td>1426370466</td>\n",
              "      <td>positive</td>\n",
              "      <td>great head millennialnomadscom plug info ill ...</td>\n",
              "    </tr>\n",
              "    <tr>\n",
              "      <th>1</th>\n",
              "      <td>Gekko463</td>\n",
              "      <td>['They', 'wont', 'let', 'you', 'Only', 'at', '...</td>\n",
              "      <td>cpf0ash</td>\n",
              "      <td>1426369733</td>\n",
              "      <td>neutral</td>\n",
              "      <td>wont let renew</td>\n",
              "    </tr>\n",
              "    <tr>\n",
              "      <th>2</th>\n",
              "      <td>Topiary_goat</td>\n",
              "      <td>['Ive', 'always', 'considered', 'expat', 'to',...</td>\n",
              "      <td>cpezkna</td>\n",
              "      <td>1426368233</td>\n",
              "      <td>positive</td>\n",
              "      <td>ive alway consid expat live anoth countri cer...</td>\n",
              "    </tr>\n",
              "    <tr>\n",
              "      <th>3</th>\n",
              "      <td>scottkeyes</td>\n",
              "      <td>['just', 'standard', 'index', 'amp', 'lifecycl...</td>\n",
              "      <td>cpexumy</td>\n",
              "      <td>1426364785</td>\n",
              "      <td>negative</td>\n",
              "      <td>standard index amp lifecycl fund dilig max ir...</td>\n",
              "    </tr>\n",
              "    <tr>\n",
              "      <th>4</th>\n",
              "      <td>MsKim</td>\n",
              "      <td>['Dumb', 'race', 'baiting', 'article', 'Expats...</td>\n",
              "      <td>cpexrld</td>\n",
              "      <td>1426364611</td>\n",
              "      <td>negative</td>\n",
              "      <td>dumb race bait articl expat matter color peop...</td>\n",
              "    </tr>\n",
              "  </tbody>\n",
              "</table>\n",
              "</div>"
            ],
            "text/plain": [
              "         author  ...                                       retrieved_on\n",
              "0    nateliason  ...   great head millennialnomadscom plug info ill ...\n",
              "1      Gekko463  ...                                    wont let renew \n",
              "2  Topiary_goat  ...   ive alway consid expat live anoth countri cer...\n",
              "3    scottkeyes  ...   standard index amp lifecycl fund dilig max ir...\n",
              "4         MsKim  ...   dumb race bait articl expat matter color peop...\n",
              "\n",
              "[5 rows x 6 columns]"
            ]
          },
          "metadata": {
            "tags": []
          },
          "execution_count": 277
        }
      ]
    },
    {
      "cell_type": "code",
      "metadata": {
        "colab": {
          "base_uri": "https://localhost:8080/"
        },
        "id": "r8_pBXrSRksU",
        "outputId": "55395303-7a1b-41bd-dd4d-bf5bc854b004"
      },
      "source": [
        "import itertools\n",
        "all_words_no_urls = list(itertools.chain(*named))\n",
        "\n",
        "# Create counter\n",
        "counts_no_urls = collections.Counter(all_words_no_urls)\n",
        "\n",
        "counts_no_urls.most_common(30)"
      ],
      "execution_count": null,
      "outputs": [
        {
          "output_type": "execute_result",
          "data": {
            "text/plain": [
              "[(\"'\", 2333724),\n",
              " (',', 1144995),\n",
              " (' ', 1144995),\n",
              " ('e', 576810),\n",
              " ('t', 461911),\n",
              " ('o', 434578),\n",
              " ('a', 402003),\n",
              " ('n', 351106),\n",
              " ('i', 333531),\n",
              " ('r', 284721),\n",
              " ('s', 222541),\n",
              " ('h', 220448),\n",
              " ('l', 214670),\n",
              " ('d', 169562),\n",
              " ('u', 166645),\n",
              " ('c', 134161),\n",
              " ('y', 133069),\n",
              " ('m', 128823),\n",
              " ('g', 116103),\n",
              " ('p', 105541),\n",
              " ('f', 102421),\n",
              " ('w', 97660),\n",
              " ('b', 78905),\n",
              " ('v', 57967),\n",
              " ('k', 57775),\n",
              " ('I', 47387),\n",
              " ('[', 21902),\n",
              " (']', 21902),\n",
              " ('T', 15314),\n",
              " ('x', 11857)]"
            ]
          },
          "metadata": {
            "tags": []
          },
          "execution_count": 279
        }
      ]
    },
    {
      "cell_type": "code",
      "metadata": {
        "id": "PO5-YGodY_Nq"
      },
      "source": [
        "rss =[]\n",
        "df2['ner'] = df2.id"
      ],
      "execution_count": null,
      "outputs": []
    },
    {
      "cell_type": "code",
      "metadata": {
        "colab": {
          "base_uri": "https://localhost:8080/",
          "height": 35
        },
        "id": "Km1ao3XwY_QT",
        "outputId": "28a6f1e2-a7f2-4b65-8446-3e22ec26ad84"
      },
      "source": [
        "\n",
        "\n",
        "'''\n",
        "for i in range(len(named)):\n",
        "  doc = nlp(named[i])\n",
        "  df2.ner[i] = [ent for ent in doc]\n",
        "\n",
        "'''\n",
        "  \n"
      ],
      "execution_count": null,
      "outputs": [
        {
          "output_type": "execute_result",
          "data": {
            "application/vnd.google.colaboratory.intrinsic+json": {
              "type": "string"
            },
            "text/plain": [
              "'\\nfor i in range(len(named)):\\n  doc = nlp(named[i])\\n  df2.ner[i] = [ent for ent in doc]\\n\\n'"
            ]
          },
          "metadata": {
            "tags": []
          },
          "execution_count": 58
        }
      ]
    },
    {
      "cell_type": "code",
      "metadata": {
        "colab": {
          "base_uri": "https://localhost:8080/",
          "height": 348
        },
        "id": "CqCS9J7aY_Su",
        "outputId": "95f5b975-ebaa-48fb-8d10-a735909221ff"
      },
      "source": [
        "df.head()"
      ],
      "execution_count": null,
      "outputs": [
        {
          "output_type": "execute_result",
          "data": {
            "text/html": [
              "<div>\n",
              "<style scoped>\n",
              "    .dataframe tbody tr th:only-of-type {\n",
              "        vertical-align: middle;\n",
              "    }\n",
              "\n",
              "    .dataframe tbody tr th {\n",
              "        vertical-align: top;\n",
              "    }\n",
              "\n",
              "    .dataframe thead th {\n",
              "        text-align: right;\n",
              "    }\n",
              "</style>\n",
              "<table border=\"1\" class=\"dataframe\">\n",
              "  <thead>\n",
              "    <tr style=\"text-align: right;\">\n",
              "      <th></th>\n",
              "      <th>author</th>\n",
              "      <th>author_created_utc</th>\n",
              "      <th>author_flair_css_class</th>\n",
              "      <th>author_flair_text</th>\n",
              "      <th>author_fullname</th>\n",
              "      <th>body</th>\n",
              "      <th>controversiality</th>\n",
              "      <th>created_utc</th>\n",
              "      <th>distinguished</th>\n",
              "      <th>gilded</th>\n",
              "      <th>id</th>\n",
              "      <th>link_id</th>\n",
              "      <th>nest_level</th>\n",
              "      <th>parent_id</th>\n",
              "      <th>reply_delay</th>\n",
              "      <th>retrieved_on</th>\n",
              "      <th>score</th>\n",
              "      <th>score_hidden</th>\n",
              "      <th>subreddit</th>\n",
              "      <th>subreddit_id</th>\n",
              "      <th>user_removed</th>\n",
              "      <th>edited</th>\n",
              "      <th>mod_removed</th>\n",
              "      <th>stickied</th>\n",
              "    </tr>\n",
              "  </thead>\n",
              "  <tbody>\n",
              "    <tr>\n",
              "      <th>0</th>\n",
              "      <td>nateliason</td>\n",
              "      <td>1.384809e+09</td>\n",
              "      <td>NaN</td>\n",
              "      <td>NaN</td>\n",
              "      <td>t2_dz1sa</td>\n",
              "      <td>Great! Head over to millennialnomads.com, plug...</td>\n",
              "      <td>0</td>\n",
              "      <td>1426370466</td>\n",
              "      <td>NaN</td>\n",
              "      <td>0</td>\n",
              "      <td>cpf0nc7</td>\n",
              "      <td>t3_2yxxuq</td>\n",
              "      <td>2.0</td>\n",
              "      <td>t1_cpexcey</td>\n",
              "      <td>6720.0</td>\n",
              "      <td>1.427764e+09</td>\n",
              "      <td>1</td>\n",
              "      <td>False</td>\n",
              "      <td>digitalnomad</td>\n",
              "      <td>t5_2r9w0</td>\n",
              "      <td>NaN</td>\n",
              "      <td>NaN</td>\n",
              "      <td>NaN</td>\n",
              "      <td>NaN</td>\n",
              "    </tr>\n",
              "    <tr>\n",
              "      <th>1</th>\n",
              "      <td>Gekko463</td>\n",
              "      <td>1.387088e+09</td>\n",
              "      <td>NaN</td>\n",
              "      <td>NaN</td>\n",
              "      <td>t2_ed0aw</td>\n",
              "      <td>They won't let you.  Only at renewal.</td>\n",
              "      <td>0</td>\n",
              "      <td>1426369733</td>\n",
              "      <td>NaN</td>\n",
              "      <td>0</td>\n",
              "      <td>cpf0ash</td>\n",
              "      <td>t3_2ymou9</td>\n",
              "      <td>4.0</td>\n",
              "      <td>t1_cpewdsm</td>\n",
              "      <td>7965.0</td>\n",
              "      <td>1.427764e+09</td>\n",
              "      <td>1</td>\n",
              "      <td>False</td>\n",
              "      <td>digitalnomad</td>\n",
              "      <td>t5_2r9w0</td>\n",
              "      <td>NaN</td>\n",
              "      <td>NaN</td>\n",
              "      <td>NaN</td>\n",
              "      <td>NaN</td>\n",
              "    </tr>\n",
              "    <tr>\n",
              "      <th>2</th>\n",
              "      <td>[deleted]</td>\n",
              "      <td>NaN</td>\n",
              "      <td>NaN</td>\n",
              "      <td>NaN</td>\n",
              "      <td>NaN</td>\n",
              "      <td>[deleted]</td>\n",
              "      <td>0</td>\n",
              "      <td>1426369250</td>\n",
              "      <td>NaN</td>\n",
              "      <td>0</td>\n",
              "      <td>cpf02kj</td>\n",
              "      <td>t3_2z0dzh</td>\n",
              "      <td>1.0</td>\n",
              "      <td>t3_2z0dzh</td>\n",
              "      <td>36742.0</td>\n",
              "      <td>1.427763e+09</td>\n",
              "      <td>1</td>\n",
              "      <td>False</td>\n",
              "      <td>digitalnomad</td>\n",
              "      <td>t5_2r9w0</td>\n",
              "      <td>True</td>\n",
              "      <td>NaN</td>\n",
              "      <td>NaN</td>\n",
              "      <td>NaN</td>\n",
              "    </tr>\n",
              "    <tr>\n",
              "      <th>3</th>\n",
              "      <td>Topiary_goat</td>\n",
              "      <td>1.425463e+09</td>\n",
              "      <td>NaN</td>\n",
              "      <td>NaN</td>\n",
              "      <td>t2_lvdut</td>\n",
              "      <td>I've always considered expats to be those who ...</td>\n",
              "      <td>0</td>\n",
              "      <td>1426368233</td>\n",
              "      <td>NaN</td>\n",
              "      <td>0</td>\n",
              "      <td>cpezkna</td>\n",
              "      <td>t3_2z1mil</td>\n",
              "      <td>1.0</td>\n",
              "      <td>t3_2z1mil</td>\n",
              "      <td>8598.0</td>\n",
              "      <td>1.427763e+09</td>\n",
              "      <td>6</td>\n",
              "      <td>False</td>\n",
              "      <td>digitalnomad</td>\n",
              "      <td>t5_2r9w0</td>\n",
              "      <td>NaN</td>\n",
              "      <td>NaN</td>\n",
              "      <td>NaN</td>\n",
              "      <td>NaN</td>\n",
              "    </tr>\n",
              "    <tr>\n",
              "      <th>4</th>\n",
              "      <td>scottkeyes</td>\n",
              "      <td>1.375214e+09</td>\n",
              "      <td>NaN</td>\n",
              "      <td>NaN</td>\n",
              "      <td>t2_cki8c</td>\n",
              "      <td>just standard index &amp;amp; lifecycle funds. dil...</td>\n",
              "      <td>0</td>\n",
              "      <td>1426364785</td>\n",
              "      <td>NaN</td>\n",
              "      <td>0</td>\n",
              "      <td>cpexumy</td>\n",
              "      <td>t3_2z02d0</td>\n",
              "      <td>3.0</td>\n",
              "      <td>t1_cpet9nq</td>\n",
              "      <td>9235.0</td>\n",
              "      <td>1.427762e+09</td>\n",
              "      <td>5</td>\n",
              "      <td>False</td>\n",
              "      <td>digitalnomad</td>\n",
              "      <td>t5_2r9w0</td>\n",
              "      <td>NaN</td>\n",
              "      <td>NaN</td>\n",
              "      <td>NaN</td>\n",
              "      <td>NaN</td>\n",
              "    </tr>\n",
              "  </tbody>\n",
              "</table>\n",
              "</div>"
            ],
            "text/plain": [
              "         author  author_created_utc  ... mod_removed stickied\n",
              "0    nateliason        1.384809e+09  ...         NaN      NaN\n",
              "1      Gekko463        1.387088e+09  ...         NaN      NaN\n",
              "2     [deleted]                 NaN  ...         NaN      NaN\n",
              "3  Topiary_goat        1.425463e+09  ...         NaN      NaN\n",
              "4    scottkeyes        1.375214e+09  ...         NaN      NaN\n",
              "\n",
              "[5 rows x 24 columns]"
            ]
          },
          "metadata": {
            "tags": []
          },
          "execution_count": 59
        }
      ]
    },
    {
      "cell_type": "code",
      "metadata": {
        "colab": {
          "base_uri": "https://localhost:8080/",
          "height": 69
        },
        "id": "vUb-fcp4-m04",
        "outputId": "8b0867bb-64ee-4689-fcdb-4a76178ccde7"
      },
      "source": [
        "import pandas as pd\n",
        "import numpy as np\n",
        "\n",
        "reviews_datasets = df\n",
        "reviews_datasets.dropna()"
      ],
      "execution_count": null,
      "outputs": [
        {
          "output_type": "execute_result",
          "data": {
            "text/html": [
              "<div>\n",
              "<style scoped>\n",
              "    .dataframe tbody tr th:only-of-type {\n",
              "        vertical-align: middle;\n",
              "    }\n",
              "\n",
              "    .dataframe tbody tr th {\n",
              "        vertical-align: top;\n",
              "    }\n",
              "\n",
              "    .dataframe thead th {\n",
              "        text-align: right;\n",
              "    }\n",
              "</style>\n",
              "<table border=\"1\" class=\"dataframe\">\n",
              "  <thead>\n",
              "    <tr style=\"text-align: right;\">\n",
              "      <th></th>\n",
              "      <th>author</th>\n",
              "      <th>author_created_utc</th>\n",
              "      <th>author_flair_css_class</th>\n",
              "      <th>author_flair_text</th>\n",
              "      <th>author_fullname</th>\n",
              "      <th>body</th>\n",
              "      <th>controversiality</th>\n",
              "      <th>created_utc</th>\n",
              "      <th>distinguished</th>\n",
              "      <th>gilded</th>\n",
              "      <th>id</th>\n",
              "      <th>link_id</th>\n",
              "      <th>nest_level</th>\n",
              "      <th>parent_id</th>\n",
              "      <th>reply_delay</th>\n",
              "      <th>retrieved_on</th>\n",
              "      <th>score</th>\n",
              "      <th>score_hidden</th>\n",
              "      <th>subreddit</th>\n",
              "      <th>subreddit_id</th>\n",
              "      <th>user_removed</th>\n",
              "      <th>edited</th>\n",
              "      <th>mod_removed</th>\n",
              "      <th>stickied</th>\n",
              "    </tr>\n",
              "  </thead>\n",
              "  <tbody>\n",
              "  </tbody>\n",
              "</table>\n",
              "</div>"
            ],
            "text/plain": [
              "Empty DataFrame\n",
              "Columns: [author, author_created_utc, author_flair_css_class, author_flair_text, author_fullname, body, controversiality, created_utc, distinguished, gilded, id, link_id, nest_level, parent_id, reply_delay, retrieved_on, score, score_hidden, subreddit, subreddit_id, user_removed, edited, mod_removed, stickied]\n",
              "Index: []"
            ]
          },
          "metadata": {
            "tags": []
          },
          "execution_count": 60
        }
      ]
    },
    {
      "cell_type": "code",
      "metadata": {
        "id": "kvpLZxsg-m3s"
      },
      "source": [
        "from sklearn.feature_extraction.text import CountVectorizer\n",
        "\n",
        "count_vect = CountVectorizer(max_df=0.8, min_df=2, stop_words='english')\n",
        "doc_term_matrix = count_vect.fit_transform(reviews_datasets['body'].values.astype('U'))"
      ],
      "execution_count": null,
      "outputs": []
    },
    {
      "cell_type": "code",
      "metadata": {
        "colab": {
          "base_uri": "https://localhost:8080/"
        },
        "id": "to4L1YgZ-m55",
        "outputId": "ee575b14-29ac-4e24-beb6-1a03b3f469c2"
      },
      "source": [
        "doc_term_matrix"
      ],
      "execution_count": null,
      "outputs": [
        {
          "output_type": "execute_result",
          "data": {
            "text/plain": [
              "<25147x16740 sparse matrix of type '<class 'numpy.int64'>'\n",
              "\twith 537541 stored elements in Compressed Sparse Row format>"
            ]
          },
          "metadata": {
            "tags": []
          },
          "execution_count": 62
        }
      ]
    },
    {
      "cell_type": "code",
      "metadata": {
        "colab": {
          "base_uri": "https://localhost:8080/"
        },
        "id": "PaDSF3er-m8K",
        "outputId": "a961ce39-c02b-4328-b14f-b0b65ea2d6dc"
      },
      "source": [
        "from sklearn.decomposition import LatentDirichletAllocation\n",
        "\n",
        "LDA = LatentDirichletAllocation( random_state=42)\n",
        "LDA.fit(doc_term_matrix)"
      ],
      "execution_count": null,
      "outputs": [
        {
          "output_type": "execute_result",
          "data": {
            "text/plain": [
              "LatentDirichletAllocation(batch_size=128, doc_topic_prior=None,\n",
              "                          evaluate_every=-1, learning_decay=0.7,\n",
              "                          learning_method='batch', learning_offset=10.0,\n",
              "                          max_doc_update_iter=100, max_iter=10,\n",
              "                          mean_change_tol=0.001, n_components=10, n_jobs=None,\n",
              "                          perp_tol=0.1, random_state=42, topic_word_prior=None,\n",
              "                          total_samples=1000000.0, verbose=0)"
            ]
          },
          "metadata": {
            "tags": []
          },
          "execution_count": 75
        }
      ]
    },
    {
      "cell_type": "code",
      "metadata": {
        "colab": {
          "base_uri": "https://localhost:8080/"
        },
        "id": "s2c0ZUW5-m-u",
        "outputId": "d9cc33f3-f089-4929-afd1-bc86335338ca"
      },
      "source": [
        "import random\n",
        "\n",
        "for i in range(10):\n",
        "    random_id = random.randint(0,len(count_vect.get_feature_names()))\n",
        "    print(count_vect.get_feature_names()[random_id])"
      ],
      "execution_count": null,
      "outputs": [
        {
          "output_type": "stream",
          "text": [
            "declines\n",
            "escapism\n",
            "littlehelperrobot\n",
            "members\n",
            "factored\n",
            "dk\n",
            "wedding\n",
            "seekers\n",
            "20miles\n",
            "leap\n"
          ],
          "name": "stdout"
        }
      ]
    },
    {
      "cell_type": "code",
      "metadata": {
        "id": "z2ZTUD1Y-nBe"
      },
      "source": [
        "first_topic = LDA.components_[0]"
      ],
      "execution_count": null,
      "outputs": []
    },
    {
      "cell_type": "code",
      "metadata": {
        "id": "ToQrKOQO-nEf"
      },
      "source": [
        "top_topic_words = first_topic.argsort()[-10:]"
      ],
      "execution_count": null,
      "outputs": []
    },
    {
      "cell_type": "code",
      "metadata": {
        "colab": {
          "base_uri": "https://localhost:8080/"
        },
        "id": "P4KlCnLJ-nG0",
        "outputId": "caeb1117-329c-4703-ed17-3c0a7ca04a2c"
      },
      "source": [
        "for i in top_topic_words:\n",
        "    print(count_vect.get_feature_names()[i])"
      ],
      "execution_count": null,
      "outputs": [
        {
          "output_type": "stream",
          "text": [
            "think\n",
            "really\n",
            "good\n",
            "ve\n",
            "time\n",
            "don\n",
            "people\n",
            "work\n",
            "like\n",
            "just\n"
          ],
          "name": "stdout"
        }
      ]
    },
    {
      "cell_type": "code",
      "metadata": {
        "colab": {
          "base_uri": "https://localhost:8080/"
        },
        "id": "O-Y8qemJIGF2",
        "outputId": "02c29b80-7a34-4938-b70e-0c42c22585cf"
      },
      "source": [
        "for i,topic in enumerate(LDA.components_):\n",
        "    print(f'Top 10 words for topic #{i}:')\n",
        "    print([count_vect.get_feature_names()[i] for i in topic.argsort()[-10:]])\n",
        "    print('\\n')"
      ],
      "execution_count": null,
      "outputs": [
        {
          "output_type": "stream",
          "text": [
            "Top 10 words for topic #0:\n",
            "['think', 'really', 'good', 've', 'time', 'don', 'people', 'work', 'like', 'just']\n",
            "\n",
            "\n"
          ],
          "name": "stdout"
        }
      ]
    },
    {
      "cell_type": "code",
      "metadata": {
        "id": "yT7XaGob_CZO"
      },
      "source": [
        "topic_values = LDA.transform(doc_term_matrix)\n"
      ],
      "execution_count": null,
      "outputs": []
    },
    {
      "cell_type": "code",
      "metadata": {
        "colab": {
          "base_uri": "https://localhost:8080/"
        },
        "id": "qjeftGIaiBYJ",
        "outputId": "67ca40c0-83fc-495e-8186-a9b8458c7c97"
      },
      "source": [
        "topic_values.shape"
      ],
      "execution_count": null,
      "outputs": [
        {
          "output_type": "execute_result",
          "data": {
            "text/plain": [
              "(25147, 1)"
            ]
          },
          "metadata": {
            "tags": []
          },
          "execution_count": 71
        }
      ]
    },
    {
      "cell_type": "code",
      "metadata": {
        "id": "94LVdxnA_CcK"
      },
      "source": [
        "reviews_datasets['Topic'] = topic_values"
      ],
      "execution_count": null,
      "outputs": []
    },
    {
      "cell_type": "code",
      "metadata": {
        "colab": {
          "base_uri": "https://localhost:8080/"
        },
        "id": "8vXNuhT0kAPi",
        "outputId": "d2442b69-21c6-4142-b2ec-e5a59e503172"
      },
      "source": [
        "reviews_datasets.Topic"
      ],
      "execution_count": null,
      "outputs": [
        {
          "output_type": "execute_result",
          "data": {
            "text/plain": [
              "0        1.0\n",
              "1        1.0\n",
              "2        1.0\n",
              "3        1.0\n",
              "4        1.0\n",
              "        ... \n",
              "25142    1.0\n",
              "25143    1.0\n",
              "25144    1.0\n",
              "25145    1.0\n",
              "25146    1.0\n",
              "Name: Topic, Length: 25147, dtype: float64"
            ]
          },
          "metadata": {
            "tags": []
          },
          "execution_count": 74
        }
      ]
    },
    {
      "cell_type": "code",
      "metadata": {
        "id": "NVzCBGq5kASa"
      },
      "source": [
        ""
      ],
      "execution_count": null,
      "outputs": []
    },
    {
      "cell_type": "code",
      "metadata": {
        "id": "pxmig4IQkiZB"
      },
      "source": [
        ""
      ],
      "execution_count": null,
      "outputs": []
    },
    {
      "cell_type": "code",
      "metadata": {
        "id": "U7EYkpUfkibo"
      },
      "source": [
        ""
      ],
      "execution_count": null,
      "outputs": []
    },
    {
      "cell_type": "code",
      "metadata": {
        "id": "xuz1AmJUkieK"
      },
      "source": [
        ""
      ],
      "execution_count": null,
      "outputs": []
    },
    {
      "cell_type": "code",
      "metadata": {
        "colab": {
          "base_uri": "https://localhost:8080/",
          "height": 348
        },
        "id": "O2lU6fVE_Cev",
        "outputId": "fc341490-1493-4ff0-bc7a-3bca6cd72747"
      },
      "source": [
        "reviews_datasets.head()"
      ],
      "execution_count": null,
      "outputs": [
        {
          "output_type": "execute_result",
          "data": {
            "text/html": [
              "<div>\n",
              "<style scoped>\n",
              "    .dataframe tbody tr th:only-of-type {\n",
              "        vertical-align: middle;\n",
              "    }\n",
              "\n",
              "    .dataframe tbody tr th {\n",
              "        vertical-align: top;\n",
              "    }\n",
              "\n",
              "    .dataframe thead th {\n",
              "        text-align: right;\n",
              "    }\n",
              "</style>\n",
              "<table border=\"1\" class=\"dataframe\">\n",
              "  <thead>\n",
              "    <tr style=\"text-align: right;\">\n",
              "      <th></th>\n",
              "      <th>author</th>\n",
              "      <th>author_created_utc</th>\n",
              "      <th>author_flair_css_class</th>\n",
              "      <th>author_flair_text</th>\n",
              "      <th>author_fullname</th>\n",
              "      <th>body</th>\n",
              "      <th>controversiality</th>\n",
              "      <th>created_utc</th>\n",
              "      <th>distinguished</th>\n",
              "      <th>gilded</th>\n",
              "      <th>id</th>\n",
              "      <th>link_id</th>\n",
              "      <th>nest_level</th>\n",
              "      <th>parent_id</th>\n",
              "      <th>reply_delay</th>\n",
              "      <th>retrieved_on</th>\n",
              "      <th>score</th>\n",
              "      <th>score_hidden</th>\n",
              "      <th>subreddit</th>\n",
              "      <th>subreddit_id</th>\n",
              "      <th>user_removed</th>\n",
              "      <th>edited</th>\n",
              "      <th>mod_removed</th>\n",
              "      <th>stickied</th>\n",
              "      <th>Topic</th>\n",
              "    </tr>\n",
              "  </thead>\n",
              "  <tbody>\n",
              "    <tr>\n",
              "      <th>0</th>\n",
              "      <td>nateliason</td>\n",
              "      <td>1.384809e+09</td>\n",
              "      <td>NaN</td>\n",
              "      <td>NaN</td>\n",
              "      <td>t2_dz1sa</td>\n",
              "      <td>Great! Head over to millennialnomads.com, plug...</td>\n",
              "      <td>0</td>\n",
              "      <td>1426370466</td>\n",
              "      <td>NaN</td>\n",
              "      <td>0</td>\n",
              "      <td>cpf0nc7</td>\n",
              "      <td>t3_2yxxuq</td>\n",
              "      <td>2.0</td>\n",
              "      <td>t1_cpexcey</td>\n",
              "      <td>6720.0</td>\n",
              "      <td>1.427764e+09</td>\n",
              "      <td>1</td>\n",
              "      <td>False</td>\n",
              "      <td>digitalnomad</td>\n",
              "      <td>t5_2r9w0</td>\n",
              "      <td>NaN</td>\n",
              "      <td>NaN</td>\n",
              "      <td>NaN</td>\n",
              "      <td>NaN</td>\n",
              "      <td>3</td>\n",
              "    </tr>\n",
              "    <tr>\n",
              "      <th>1</th>\n",
              "      <td>Gekko463</td>\n",
              "      <td>1.387088e+09</td>\n",
              "      <td>NaN</td>\n",
              "      <td>NaN</td>\n",
              "      <td>t2_ed0aw</td>\n",
              "      <td>They won't let you.  Only at renewal.</td>\n",
              "      <td>0</td>\n",
              "      <td>1426369733</td>\n",
              "      <td>NaN</td>\n",
              "      <td>0</td>\n",
              "      <td>cpf0ash</td>\n",
              "      <td>t3_2ymou9</td>\n",
              "      <td>4.0</td>\n",
              "      <td>t1_cpewdsm</td>\n",
              "      <td>7965.0</td>\n",
              "      <td>1.427764e+09</td>\n",
              "      <td>1</td>\n",
              "      <td>False</td>\n",
              "      <td>digitalnomad</td>\n",
              "      <td>t5_2r9w0</td>\n",
              "      <td>NaN</td>\n",
              "      <td>NaN</td>\n",
              "      <td>NaN</td>\n",
              "      <td>NaN</td>\n",
              "      <td>0</td>\n",
              "    </tr>\n",
              "    <tr>\n",
              "      <th>2</th>\n",
              "      <td>[deleted]</td>\n",
              "      <td>NaN</td>\n",
              "      <td>NaN</td>\n",
              "      <td>NaN</td>\n",
              "      <td>NaN</td>\n",
              "      <td>[deleted]</td>\n",
              "      <td>0</td>\n",
              "      <td>1426369250</td>\n",
              "      <td>NaN</td>\n",
              "      <td>0</td>\n",
              "      <td>cpf02kj</td>\n",
              "      <td>t3_2z0dzh</td>\n",
              "      <td>1.0</td>\n",
              "      <td>t3_2z0dzh</td>\n",
              "      <td>36742.0</td>\n",
              "      <td>1.427763e+09</td>\n",
              "      <td>1</td>\n",
              "      <td>False</td>\n",
              "      <td>digitalnomad</td>\n",
              "      <td>t5_2r9w0</td>\n",
              "      <td>True</td>\n",
              "      <td>NaN</td>\n",
              "      <td>NaN</td>\n",
              "      <td>NaN</td>\n",
              "      <td>3</td>\n",
              "    </tr>\n",
              "    <tr>\n",
              "      <th>3</th>\n",
              "      <td>Topiary_goat</td>\n",
              "      <td>1.425463e+09</td>\n",
              "      <td>NaN</td>\n",
              "      <td>NaN</td>\n",
              "      <td>t2_lvdut</td>\n",
              "      <td>I've always considered expats to be those who ...</td>\n",
              "      <td>0</td>\n",
              "      <td>1426368233</td>\n",
              "      <td>NaN</td>\n",
              "      <td>0</td>\n",
              "      <td>cpezkna</td>\n",
              "      <td>t3_2z1mil</td>\n",
              "      <td>1.0</td>\n",
              "      <td>t3_2z1mil</td>\n",
              "      <td>8598.0</td>\n",
              "      <td>1.427763e+09</td>\n",
              "      <td>6</td>\n",
              "      <td>False</td>\n",
              "      <td>digitalnomad</td>\n",
              "      <td>t5_2r9w0</td>\n",
              "      <td>NaN</td>\n",
              "      <td>NaN</td>\n",
              "      <td>NaN</td>\n",
              "      <td>NaN</td>\n",
              "      <td>0</td>\n",
              "    </tr>\n",
              "    <tr>\n",
              "      <th>4</th>\n",
              "      <td>scottkeyes</td>\n",
              "      <td>1.375214e+09</td>\n",
              "      <td>NaN</td>\n",
              "      <td>NaN</td>\n",
              "      <td>t2_cki8c</td>\n",
              "      <td>just standard index &amp;amp; lifecycle funds. dil...</td>\n",
              "      <td>0</td>\n",
              "      <td>1426364785</td>\n",
              "      <td>NaN</td>\n",
              "      <td>0</td>\n",
              "      <td>cpexumy</td>\n",
              "      <td>t3_2z02d0</td>\n",
              "      <td>3.0</td>\n",
              "      <td>t1_cpet9nq</td>\n",
              "      <td>9235.0</td>\n",
              "      <td>1.427762e+09</td>\n",
              "      <td>5</td>\n",
              "      <td>False</td>\n",
              "      <td>digitalnomad</td>\n",
              "      <td>t5_2r9w0</td>\n",
              "      <td>NaN</td>\n",
              "      <td>NaN</td>\n",
              "      <td>NaN</td>\n",
              "      <td>NaN</td>\n",
              "      <td>0</td>\n",
              "    </tr>\n",
              "  </tbody>\n",
              "</table>\n",
              "</div>"
            ],
            "text/plain": [
              "         author  author_created_utc  ... stickied Topic\n",
              "0    nateliason        1.384809e+09  ...      NaN     3\n",
              "1      Gekko463        1.387088e+09  ...      NaN     0\n",
              "2     [deleted]                 NaN  ...      NaN     3\n",
              "3  Topiary_goat        1.425463e+09  ...      NaN     0\n",
              "4    scottkeyes        1.375214e+09  ...      NaN     0\n",
              "\n",
              "[5 rows x 25 columns]"
            ]
          },
          "metadata": {
            "tags": []
          },
          "execution_count": 313
        }
      ]
    },
    {
      "cell_type": "code",
      "metadata": {
        "id": "1dEH4vOJ_Cgt"
      },
      "source": [
        ""
      ],
      "execution_count": null,
      "outputs": []
    },
    {
      "cell_type": "code",
      "metadata": {
        "id": "t8Sl8GOM_Cjh"
      },
      "source": [
        ""
      ],
      "execution_count": null,
      "outputs": []
    },
    {
      "cell_type": "code",
      "metadata": {
        "id": "ROpc1Ciu_Cl3"
      },
      "source": [
        ""
      ],
      "execution_count": null,
      "outputs": []
    },
    {
      "cell_type": "code",
      "metadata": {
        "id": "0oWgbKcT_CoW"
      },
      "source": [
        ""
      ],
      "execution_count": null,
      "outputs": []
    },
    {
      "cell_type": "code",
      "metadata": {
        "id": "octgIFSP_Cqu"
      },
      "source": [
        ""
      ],
      "execution_count": null,
      "outputs": []
    },
    {
      "cell_type": "code",
      "metadata": {
        "colab": {
          "background_save": true
        },
        "id": "Bwer6GlpH_Nd"
      },
      "source": [
        "def display_topics(model, feature_names, no_top_words):\n",
        "    for topic_idx , topic in enumerate(model.components_):\n",
        "        print(\"Topic %d:\" % (topic_idx))\n",
        "        print(\" \".join([feature_names[i] for i in topic.argsort()[:-no_top_words -1:-1]]))"
      ],
      "execution_count": null,
      "outputs": []
    },
    {
      "cell_type": "code",
      "metadata": {
        "id": "bEV-UOAfH_QG"
      },
      "source": [
        ""
      ],
      "execution_count": null,
      "outputs": []
    },
    {
      "cell_type": "code",
      "metadata": {
        "id": "RXkAruwKH4Br"
      },
      "source": [
        ""
      ],
      "execution_count": null,
      "outputs": []
    },
    {
      "cell_type": "code",
      "metadata": {
        "id": "TriZjo-tH4FU"
      },
      "source": [
        ""
      ],
      "execution_count": null,
      "outputs": []
    },
    {
      "cell_type": "code",
      "metadata": {
        "id": "zOdOwqFwH4IY"
      },
      "source": [
        ""
      ],
      "execution_count": null,
      "outputs": []
    },
    {
      "cell_type": "code",
      "metadata": {
        "id": "VisF0tYgY_VR"
      },
      "source": [
        ""
      ],
      "execution_count": null,
      "outputs": []
    },
    {
      "cell_type": "code",
      "metadata": {
        "id": "xdgzVprO-HKZ"
      },
      "source": [
        ""
      ],
      "execution_count": null,
      "outputs": []
    },
    {
      "cell_type": "code",
      "metadata": {
        "id": "ZKNTg-ie-HPS"
      },
      "source": [
        ""
      ],
      "execution_count": null,
      "outputs": []
    },
    {
      "cell_type": "code",
      "metadata": {
        "id": "-9aWviFa-HRG"
      },
      "source": [
        ""
      ],
      "execution_count": null,
      "outputs": []
    },
    {
      "cell_type": "code",
      "metadata": {
        "id": "JT0fVLsiY_YB"
      },
      "source": [
        ""
      ],
      "execution_count": null,
      "outputs": []
    },
    {
      "cell_type": "code",
      "metadata": {
        "id": "VO1iLXyQLiCG"
      },
      "source": [
        ""
      ],
      "execution_count": null,
      "outputs": []
    },
    {
      "cell_type": "code",
      "metadata": {
        "id": "1NSgHQgQY_aY"
      },
      "source": [
        ""
      ],
      "execution_count": null,
      "outputs": []
    },
    {
      "cell_type": "code",
      "metadata": {
        "id": "xXU4ronFMSf5"
      },
      "source": [
        "\n"
      ],
      "execution_count": null,
      "outputs": []
    },
    {
      "cell_type": "code",
      "metadata": {
        "id": "hyAskofzs0rh"
      },
      "source": [
        "#print([ent for ent in named])\n",
        "#tm = [ent for ent in doc]\n",
        "\n"
      ],
      "execution_count": null,
      "outputs": []
    },
    {
      "cell_type": "code",
      "metadata": {
        "id": "j1_BJ5GUHCXk"
      },
      "source": [
        "#print(tm)"
      ],
      "execution_count": null,
      "outputs": []
    },
    {
      "cell_type": "code",
      "metadata": {
        "id": "Wby0qI5BHCaO"
      },
      "source": [
        "\n"
      ],
      "execution_count": null,
      "outputs": []
    },
    {
      "cell_type": "code",
      "metadata": {
        "id": "vzGSqSjQGGNu"
      },
      "source": [
        ""
      ],
      "execution_count": null,
      "outputs": []
    },
    {
      "cell_type": "code",
      "metadata": {
        "id": "9cf-tWtIGGQ8"
      },
      "source": [
        ""
      ],
      "execution_count": null,
      "outputs": []
    },
    {
      "cell_type": "code",
      "metadata": {
        "id": "Lf3EWSAkGRmr"
      },
      "source": [
        ""
      ],
      "execution_count": null,
      "outputs": []
    },
    {
      "cell_type": "code",
      "metadata": {
        "id": "uMUCchaMGRpP"
      },
      "source": [
        ""
      ],
      "execution_count": null,
      "outputs": []
    },
    {
      "cell_type": "code",
      "metadata": {
        "id": "T84BTpoO5J9v"
      },
      "source": [
        ""
      ],
      "execution_count": null,
      "outputs": []
    },
    {
      "cell_type": "code",
      "metadata": {
        "id": "OH_9lyBS-_we"
      },
      "source": [
        ""
      ],
      "execution_count": null,
      "outputs": []
    },
    {
      "cell_type": "code",
      "metadata": {
        "id": "1K9bXScc-_y6"
      },
      "source": [
        ""
      ],
      "execution_count": null,
      "outputs": []
    },
    {
      "cell_type": "code",
      "metadata": {
        "id": "CdmRoJgcyDdR"
      },
      "source": [
        ""
      ],
      "execution_count": null,
      "outputs": []
    },
    {
      "cell_type": "code",
      "metadata": {
        "id": "7b0jKFI54k9M"
      },
      "source": [
        ""
      ],
      "execution_count": null,
      "outputs": []
    },
    {
      "cell_type": "code",
      "metadata": {
        "id": "FDSDRhSHyDf8"
      },
      "source": [
        ""
      ],
      "execution_count": null,
      "outputs": []
    },
    {
      "cell_type": "code",
      "metadata": {
        "id": "PwNxWsMcyDib"
      },
      "source": [
        "\n"
      ],
      "execution_count": null,
      "outputs": []
    }
  ]
}